{
 "cells": [
  {
   "cell_type": "markdown",
   "metadata": {},
   "source": [
    "<a id='main'></a>\n",
    "# Supervised Summary"
   ]
  },
  {
   "cell_type": "markdown",
   "metadata": {},
   "source": [
    "This is a little hands-on summary of some notable supervised machine learning algorithms and how to implement/finetune them. As only one dataset was used for classification and regression each, some models are misrepresented. They would yield much better results for other datasets."
   ]
  },
  {
   "cell_type": "code",
   "execution_count": 2,
   "metadata": {},
   "outputs": [],
   "source": [
    "#import base pacakges\n",
    "import numpy as np\n",
    "import matplotlib.pyplot as plt"
   ]
  },
  {
   "cell_type": "markdown",
   "metadata": {},
   "source": [
    "## table of contents:\n",
    "* [0. Datasets](#ch0)\n",
    "    * diabetes and digits dataset of sklearn\n",
    "* [1. k-nearast neighbors (knn)](#ch1)\n",
    "    * For small datasets, good as a baseline, easy to explain. \n",
    "* [2.linear models](#ch2)\n",
    "    * Go-to as a first algorithm to try, good for very large datasets, good for very highdimensional data. \n",
    "* [3. Naive Bayes](#ch3)\n",
    "    * Only for classification. Even faster than linear models, good for very large datasets and high-dimensional data. Often less accurate than linear models. \n",
    "* [4. Decision Trees](#ch4)\n",
    "    * Very fast, don’t need scaling of the data, can be visualized and easily explained.\n",
    "* [5. Random Trees](#ch5)\n",
    "    * In regards of classification and regression among the most widely used algorithms. Nearly always perform better than a single decision tree, very robust and powerful. Don’t need scaling of data. Not good for very high-dimensional sparse data. \n",
    "\n",
    "* [6. Gradient boosted regression trees (gradient boosting machines)](#ch6)\n",
    "    * Often slightly more accurate than random forests. Slower to train but faster to predict than random forests, and smaller in memory. Need more parameter tuning than random forests.\n",
    "* [7. Support vector machines](#ch7)\n",
    "    * Go-to as a first algorithm to try, good for very large datasets, good for very highdimensional data. \n",
    "* [8. Neural Networks (deep learning)](#ch8)\n",
    "    * Can build very complex models, particularly for large datasets. Sensitive to scaling of the data (best mean=0 and std=1) and to the choice of parameters. Large models need a long time to train."
   ]
  },
  {
   "cell_type": "markdown",
   "metadata": {},
   "source": [
    "<a id='ch0'></a>\n",
    "# Datasets"
   ]
  },
  {
   "cell_type": "markdown",
   "metadata": {},
   "source": [
    "## Classification Dataset"
   ]
  },
  {
   "cell_type": "code",
   "execution_count": 3,
   "metadata": {},
   "outputs": [
    {
     "name": "stdout",
     "output_type": "stream",
     "text": [
      "digits.keys():\n",
      " dict_keys(['data', 'target', 'target_names', 'images', 'DESCR'])\n"
     ]
    }
   ],
   "source": [
    "#load dataset\n",
    "from sklearn.datasets import load_digits\n",
    "digits=load_digits()\n",
    "print(\"digits.keys():\\n\", digits.keys())"
   ]
  },
  {
   "cell_type": "code",
   "execution_count": 4,
   "metadata": {
    "scrolled": true
   },
   "outputs": [
    {
     "name": "stdout",
     "output_type": "stream",
     "text": [
      ".. _digits_dataset:\n",
      "\n",
      "Optical recognition of handwritten digits dataset\n",
      "...\n"
     ]
    }
   ],
   "source": [
    "# data set description\n",
    "i=70\n",
    "print(digits['DESCR'][:i]+ \"\\n...\") #increase i for more info"
   ]
  },
  {
   "cell_type": "code",
   "execution_count": 5,
   "metadata": {
    "scrolled": false
   },
   "outputs": [
    {
     "data": {
      "image/png": "[encoded data removed]",
      "text/plain": [
       "<Figure size 720x720 with 9 Axes>"
      ]
     },
     "metadata": {
      "needs_background": "light"
     },
     "output_type": "display_data"
    }
   ],
   "source": [
    "# plot samples\n",
    "fig,axes =plt.subplots(3,3, figsize=(10, 10))\n",
    "fig.suptitle('some samples', fontsize=20, fontweight='bold',y=.94)\n",
    "for i,ax in zip(range(1,10),axes.ravel()):\n",
    "    ax.xaxis.set_ticks(np.arange(0.,7.1, 1.))\n",
    "    ax.yaxis.set_ticks(np.arange(0.,7.1, 1.))\n",
    "    ax.imshow(digits.images[-i], cmap=plt.cm.gray_r, interpolation='nearest')\n",
    "    ax.set_title(\"number: {:}\".format(digits.target[-i]))"
   ]
  },
  {
   "cell_type": "code",
   "execution_count": 6,
   "metadata": {},
   "outputs": [
    {
     "name": "stdout",
     "output_type": "stream",
     "text": [
      "Shape of digit data: (1797, 64)\n"
     ]
    }
   ],
   "source": [
    "#amount of samples and features per sample\n",
    "print(\"Shape of digit data:\", digits.data.shape)"
   ]
  },
  {
   "cell_type": "code",
   "execution_count": 7,
   "metadata": {},
   "outputs": [
    {
     "name": "stdout",
     "output_type": "stream",
     "text": [
      "Target names: [0 1 2 3 4 5 6 7 8 9]\n"
     ]
    }
   ],
   "source": [
    "#target names\n",
    "print(\"Target names:\",digits.target_names)"
   ]
  },
  {
   "cell_type": "code",
   "execution_count": 8,
   "metadata": {},
   "outputs": [
    {
     "name": "stdout",
     "output_type": "stream",
     "text": [
      "Sample counts per class:\n",
      " {0: 178, 1: 182, 2: 177, 3: 183, 4: 181, 5: 182, 6: 181, 7: 179, 8: 174, 9: 180}\n"
     ]
    }
   ],
   "source": [
    "#sample counts per class\n",
    "print(\"Sample counts per class:\\n\",\n",
    "      {n: v for n, v in zip(digits.target_names, np.bincount(digits.target))})"
   ]
  },
  {
   "cell_type": "code",
   "execution_count": 9,
   "metadata": {},
   "outputs": [],
   "source": [
    "#splitting data in test and train datasets\n",
    "from sklearn.model_selection import train_test_split\n",
    "cla_X_train, cla_X_test, cla_y_train, cla_y_test = train_test_split(\n",
    "    digits['data'], digits['target'], random_state=0) #random_state is seed for random number generation"
   ]
  },
  {
   "cell_type": "markdown",
   "metadata": {},
   "source": [
    "## Regression Dataset "
   ]
  },
  {
   "cell_type": "code",
   "execution_count": 10,
   "metadata": {},
   "outputs": [
    {
     "name": "stdout",
     "output_type": "stream",
     "text": [
      "diabetes.keys():\n",
      " dict_keys(['data', 'target', 'DESCR', 'feature_names', 'data_filename', 'target_filename'])\n"
     ]
    }
   ],
   "source": [
    "#load dataset\n",
    "from sklearn.datasets import load_diabetes\n",
    "diabetes=load_diabetes()\n",
    "print(\"diabetes.keys():\\n\", diabetes.keys())"
   ]
  },
  {
   "cell_type": "code",
   "execution_count": 11,
   "metadata": {},
   "outputs": [
    {
     "name": "stdout",
     "output_type": "stream",
     "text": [
      ".. _digits_dataset:\n",
      "\n",
      "Optical recognition of handwritten digits dataset\n",
      "--------------------------------------------------\n",
      "\n",
      "**Data Set Characteristics:**\n",
      "\n",
      "    :Number of Instances: 5620\n",
      "    :Number of Attributes: 64\n",
      "    :Attribute Information: 8x8 image of integer pixels in the range 0..16.\n",
      "    :Missing Attribute Values: None\n",
      "...\n"
     ]
    }
   ],
   "source": [
    "# data set description\n",
    "i=326\n",
    "print(digits['DESCR'][:i]+ \"\\n...\") #increase i for more info"
   ]
  },
  {
   "cell_type": "code",
   "execution_count": 12,
   "metadata": {},
   "outputs": [
    {
     "name": "stdout",
     "output_type": "stream",
     "text": [
      "Shape of digit data: (1797, 64)\n"
     ]
    }
   ],
   "source": [
    "#amount of samples and features per sample\n",
    "print(\"Shape of digit data:\", digits.data.shape)"
   ]
  },
  {
   "cell_type": "code",
   "execution_count": 13,
   "metadata": {},
   "outputs": [
    {
     "name": "stdout",
     "output_type": "stream",
     "text": [
      "Target names: ['age', 'sex', 'bmi', 'bp', 's1', 's2', 's3', 's4', 's5', 's6']\n"
     ]
    }
   ],
   "source": [
    "#target names\n",
    "print(\"Target names:\", diabetes.feature_names)"
   ]
  },
  {
   "cell_type": "code",
   "execution_count": 14,
   "metadata": {},
   "outputs": [],
   "source": [
    "#splitting data in test and train datasets\n",
    "from sklearn.model_selection import train_test_split\n",
    "reg_X_train, reg_X_test, reg_y_train, reg_y_test = train_test_split(\n",
    "    diabetes['data'], diabetes['target'], random_state=0) #random_state is seed for random number generation"
   ]
  },
  {
   "cell_type": "markdown",
   "metadata": {},
   "source": [
    "<a id='ch1'></a>\n",
    "# 1. k-nearast neighbors (knn) [return to overview](#main)"
   ]
  },
  {
   "cell_type": "markdown",
   "metadata": {},
   "source": [
    "### Classifies, by collecting the k-nearest training-set-neighbours in (#samples)-dimensional space. Class is then determined by voting. Regression similar with means."
   ]
  },
  {
   "cell_type": "markdown",
   "metadata": {},
   "source": [
    "#### For small datasets, good as a baseline, easy to explain. "
   ]
  },
  {
   "cell_type": "markdown",
   "metadata": {},
   "source": [
    "### knn classifier"
   ]
  },
  {
   "cell_type": "code",
   "execution_count": 15,
   "metadata": {
    "scrolled": true
   },
   "outputs": [
    {
     "name": "stdout",
     "output_type": "stream",
     "text": [
      "Training set score: 0.99\n",
      "Test set score: 0.99\n",
      "\n",
      " Possible Modifications: \n",
      " KNeighborsClassifier(algorithm='auto', leaf_size=30, metric='minkowski',\n",
      "                     metric_params=None, n_jobs=None, n_neighbors=5, p=2,\n",
      "                     weights='uniform')\n"
     ]
    }
   ],
   "source": [
    "#Import\n",
    "from sklearn.neighbors import KNeighborsClassifier\n",
    "knn = KNeighborsClassifier(n_neighbors=3)\n",
    "#Train\n",
    "knn.fit(cla_X_train, cla_y_train)\n",
    "#Test\n",
    "print(\"Training set score: {:.2f}\".format(knn.score(cla_X_train, cla_y_train)))\n",
    "print(\"Test set score: {:.2f}\".format(knn.score(cla_X_test, cla_y_test)))\n",
    "\n",
    "print(\"\\n Possible Modifications: \\n\",KNeighborsClassifier())"
   ]
  },
  {
   "cell_type": "markdown",
   "metadata": {},
   "source": [
    "# Example for Outputting Predictions of Classifier"
   ]
  },
  {
   "cell_type": "code",
   "execution_count": 16,
   "metadata": {},
   "outputs": [
    {
     "data": {
      "image/png": "[encoded data removed]",
      "text/plain": [
       "<Figure size 792x792 with 9 Axes>"
      ]
     },
     "metadata": {
      "needs_background": "light"
     },
     "output_type": "display_data"
    }
   ],
   "source": [
    "# plot samples\n",
    "fig,axes =plt.subplots(3,3, figsize=(11, 11))\n",
    "plt.subplots_adjust(wspace=-0.1)\n",
    "fig.suptitle('some samples and their predictions', fontsize=20, fontweight='bold',y=.94)\n",
    "for i,ax in zip(range(1,10),axes.ravel()):\n",
    "    pic=cla_X_test[i].reshape(8,8)\n",
    "    ax.xaxis.set_ticks(np.arange(0.,7.1, 1.))\n",
    "    ax.yaxis.set_ticks(np.arange(0.,7.1, 1.))\n",
    "    ax.imshow(pic, cmap=plt.cm.gray_r, interpolation='nearest')\n",
    "    ax.set_title(\"target val:{:}, predicted val:{:}\".format(cla_y_test[i],knn.predict(cla_X_test)[i]))"
   ]
  },
  {
   "cell_type": "code",
   "execution_count": 17,
   "metadata": {},
   "outputs": [
    {
     "data": {
      "image/png": "[encoded data removed]",
      "text/plain": [
       "<Figure size 792x792 with 6 Axes>"
      ]
     },
     "metadata": {
      "needs_background": "light"
     },
     "output_type": "display_data"
    }
   ],
   "source": [
    "# show samples with wrong predictions\n",
    "wrong=np.where(knn.predict(cla_X_test)!=cla_y_test)[0]\n",
    "\n",
    "# plot nine samples\n",
    "fig,axes =plt.subplots(2,3, figsize=(11, 11))\n",
    "plt.subplots_adjust(wspace=0.1,hspace=-0.35)\n",
    "fig.suptitle('samples with wrong predictions', fontsize=20, fontweight='bold',y=.84)\n",
    "for i,ax in zip(wrong,axes.ravel()):\n",
    "    pic=cla_X_test[i].reshape(8,8)\n",
    "    ax.xaxis.set_ticks(np.arange(0.,7.1, 1.))\n",
    "    ax.yaxis.set_ticks(np.arange(0.,7.1, 1.))\n",
    "    ax.imshow(pic, cmap=plt.cm.gray_r, interpolation='nearest')\n",
    "    ax.set_title(\"target val:{:}, predicted val:{:}\".format(cla_y_test[i],knn.predict(cla_X_test)[i]))"
   ]
  },
  {
   "cell_type": "code",
   "execution_count": 18,
   "metadata": {
    "scrolled": false
   },
   "outputs": [
    {
     "name": "stdout",
     "output_type": "stream",
     "text": [
      "Predicted results:\n",
      "(2, 2)\n",
      "(8, 8)\n",
      "(2, 2)\n",
      "(6, 6)\n",
      "(6, 6)\n",
      "(7, 7)\n",
      "(1, 1)\n",
      "(9, 9)\n",
      "(8, 8)\n",
      "(5, 5)\n"
     ]
    }
   ],
   "source": [
    "#Test predition for first ten results.\n",
    "print(\"Predicted results:\")\n",
    "for x in tuple(zip(knn.predict(cla_X_test),digits['target_names'][cla_y_test]))[0:10]: \n",
    "    print(x) "
   ]
  },
  {
   "cell_type": "code",
   "execution_count": 19,
   "metadata": {},
   "outputs": [
    {
     "name": "stdout",
     "output_type": "stream",
     "text": [
      "Predicted probabilities:\n",
      "[0. 0. 0. 0. 0. 0. 0. 0. 0. 1.]\n",
      "[0.         0.         0.33333333 0.33333333 0.         0.\n",
      " 0.         0.33333333 0.         0.        ]\n",
      "[0. 0. 0. 0. 0. 0. 1. 0. 0. 0.]\n",
      "[0. 0. 0. 0. 0. 0. 0. 0. 0. 1.]\n",
      "[0. 1. 0. 0. 0. 0. 0. 0. 0. 0.]\n",
      "[0. 0. 0. 0. 0. 0. 0. 0. 1. 0.]\n"
     ]
    }
   ],
   "source": [
    "# predicted probabilities for predictions of samples 65 to 70. Also available for other algorithms. Try it out!\n",
    "print(\"Predicted probabilities:\")\n",
    "for i in range(65,71):\n",
    "    print(knn.predict_proba(cla_X_test)[i])"
   ]
  },
  {
   "cell_type": "code",
   "execution_count": 20,
   "metadata": {},
   "outputs": [
    {
     "ename": "AttributeError",
     "evalue": "'KNeighborsClassifier' object has no attribute 'decision_function'",
     "output_type": "error",
     "traceback": [
      "\u001b[1;31m---------------------------------------------------------------------------\u001b[0m",
      "\u001b[1;31mAttributeError\u001b[0m                            Traceback (most recent call last)",
      "\u001b[1;32m<ipython-input-20-6d7c6ef0088a>\u001b[0m in \u001b[0;36m<module>\u001b[1;34m\u001b[0m\n\u001b[1;32m----> 1\u001b[1;33m \u001b[0mprint\u001b[0m\u001b[1;33m(\u001b[0m\u001b[1;34m\"Decision function:\\n{}\"\u001b[0m\u001b[1;33m.\u001b[0m\u001b[0mformat\u001b[0m\u001b[1;33m(\u001b[0m\u001b[0mknn\u001b[0m\u001b[1;33m.\u001b[0m\u001b[0mdecision_function\u001b[0m\u001b[1;33m(\u001b[0m\u001b[0mcla_X_test\u001b[0m\u001b[1;33m)\u001b[0m\u001b[1;33m[\u001b[0m\u001b[1;33m:\u001b[0m\u001b[1;36m6\u001b[0m\u001b[1;33m]\u001b[0m\u001b[1;33m)\u001b[0m\u001b[1;33m)\u001b[0m\u001b[1;33m\u001b[0m\u001b[1;33m\u001b[0m\u001b[0m\n\u001b[0m",
      "\u001b[1;31mAttributeError\u001b[0m: 'KNeighborsClassifier' object has no attribute 'decision_function'"
     ]
    }
   ],
   "source": [
    "print(\"Decision function:\\n{}\".format(knn.decision_function(cla_X_test)[:6]))\n"
   ]
  },
  {
   "cell_type": "markdown",
   "metadata": {},
   "source": [
    "### knn regressor\n"
   ]
  },
  {
   "cell_type": "code",
   "execution_count": null,
   "metadata": {},
   "outputs": [],
   "source": [
    "#Import\n",
    "from sklearn.neighbors import KNeighborsRegressor\n",
    "knn = KNeighborsRegressor(n_neighbors=30)\n",
    "#Train\n",
    "knn.fit(reg_X_train, reg_y_train)\n",
    "#Test\n",
    "print(\"Training set score: {:.2f}\".format(knn.score(reg_X_train, reg_y_train)))\n",
    "print(\"Test set score: {:.2f}\".format(knn.score(reg_X_test, reg_y_test)))\n",
    "\n",
    "print(\"\\n Possible Modifications: \\n\",KNeighborsRegressor())"
   ]
  },
  {
   "cell_type": "markdown",
   "metadata": {},
   "source": [
    "<a id='ch2'></a>\n",
    "# 2.linear models [return to overview](#main)"
   ]
  },
  {
   "cell_type": "markdown",
   "metadata": {},
   "source": [
    "### Data is approximated by linear functions. Classifcation through position below/above hyperplane(s)."
   ]
  },
  {
   "cell_type": "markdown",
   "metadata": {},
   "source": [
    "####  Go-to as a first algorithm to try, good for very large datasets, good for very highdimensional data. "
   ]
  },
  {
   "cell_type": "markdown",
   "metadata": {},
   "source": [
    "### linear Support Vector Classifier (SVC)"
   ]
  },
  {
   "cell_type": "markdown",
   "metadata": {},
   "source": [
    "##### better for better dimenisions. generalizes. "
   ]
  },
  {
   "cell_type": "code",
   "execution_count": null,
   "metadata": {},
   "outputs": [],
   "source": [
    "#Import\n",
    "from sklearn.svm import LinearSVC\n",
    "lin = LinearSVC(max_iter=2000)\n",
    "#Train\n",
    "lin.fit(cla_X_train, cla_y_train)\n",
    "#Test\n",
    "print(\"Training set score: {:.2f}\".format(lin.score(cla_X_train, cla_y_train)))\n",
    "print(\"Test set score: {:.2f}\".format(lin.score(cla_X_test, cla_y_test)))\n",
    "\n",
    "print(\"\\n Possible Modifications: \\n\",LinearSVC())"
   ]
  },
  {
   "cell_type": "markdown",
   "metadata": {},
   "source": [
    "### logistic regression classification"
   ]
  },
  {
   "cell_type": "markdown",
   "metadata": {},
   "source": [
    "##### usually similiarly good as SVC. Try regression first"
   ]
  },
  {
   "cell_type": "code",
   "execution_count": null,
   "metadata": {
    "scrolled": true
   },
   "outputs": [],
   "source": [
    "#Import\n",
    "from sklearn.linear_model import LogisticRegression\n",
    "log = LogisticRegression(C=0.01, max_iter=2000) #Modify C to prevent overfitting\n",
    "#Train\n",
    "log.fit(cla_X_train, cla_y_train)\n",
    "#Test\n",
    "print(\"Training set score: {:.2f}\".format(log.score(cla_X_train, cla_y_train)))\n",
    "print(\"Test set score: {:.2f}\".format(log.score(cla_X_test, cla_y_test)))\n",
    "\n",
    "print(\"\\n Possible Modifications: \\n\",LogisticRegression())"
   ]
  },
  {
   "cell_type": "markdown",
   "metadata": {},
   "source": [
    "### linear regression (aka ordinary least squares)"
   ]
  },
  {
   "cell_type": "markdown",
   "metadata": {},
   "source": [
    "##### good for high dimensions (many features). Can´t learn anything from less than about 400 samples"
   ]
  },
  {
   "cell_type": "code",
   "execution_count": null,
   "metadata": {},
   "outputs": [],
   "source": [
    "#Import\n",
    "from sklearn.linear_model import LinearRegression\n",
    "lr = LinearRegression()\n",
    "#Train\n",
    "lr.fit(X_train, y_train)\n",
    "#Test\n",
    "print(\"Training set score: {:.2f}\".format(lr.score(reg_X_train, reg_y_train)))\n",
    "print(\"Test set score: {:.2f}\".format(lr.score(reg_X_test, reg_y_test)))\n",
    "\n",
    "print(\"\\n Possible Modifications: \\n\",LinearRegression())\n"
   ]
  },
  {
   "cell_type": "code",
   "execution_count": null,
   "metadata": {},
   "outputs": [],
   "source": [
    "#Coefficients\n",
    "print(\"lr.coef_:\", lr.coef_)\n",
    "print(\"lr.intercept_:\", lr.intercept_)"
   ]
  },
  {
   "cell_type": "markdown",
   "metadata": {},
   "source": [
    "### ridge regression"
   ]
  },
  {
   "cell_type": "markdown",
   "metadata": {},
   "source": [
    "##### less likely to overfit than linear regression, as it generalizes more. Performace catches up for large sample sizes."
   ]
  },
  {
   "cell_type": "code",
   "execution_count": null,
   "metadata": {},
   "outputs": [],
   "source": [
    "#Import\n",
    "from sklearn.linear_model import Ridge\n",
    "ridge = Ridge(alpha=0.2)\n",
    "#Train\n",
    "ridge.fit(reg_X_train, reg_y_train)\n",
    "#Test\n",
    "print(\"Training set score: {:.2f}\".format(ridge.score(reg_X_train, reg_y_train)))\n",
    "print(\"Test set score: {:.2f}\".format(ridge.score(reg_X_test, reg_y_test)))\n",
    "\n",
    "print(\"\\n Possible Modifications: \\n\",Ridge())\n"
   ]
  },
  {
   "cell_type": "markdown",
   "metadata": {},
   "source": [
    "### lasso regression"
   ]
  },
  {
   "cell_type": "markdown",
   "metadata": {},
   "source": [
    "##### ridge is usually better. lasso might be better for data with many features, where only few will be of importance"
   ]
  },
  {
   "cell_type": "code",
   "execution_count": null,
   "metadata": {},
   "outputs": [],
   "source": [
    "#Import\n",
    "from sklearn.linear_model import Lasso\n",
    "las = Lasso(alpha=0.1)\n",
    "#Train\n",
    "las.fit(reg_X_train, reg_y_train)\n",
    "#Test\n",
    "print(\"Training set score: {:.2f}\".format(las.score(reg_X_train, reg_y_train)))\n",
    "print(\"Test set score: {:.2f}\".format(las.score(reg_X_test, reg_y_test)))\n",
    "\n",
    "print(\"\\n Possible Modifications: \\n\",Ridge())"
   ]
  },
  {
   "cell_type": "markdown",
   "metadata": {},
   "source": [
    "##### usually works best. combines ridge and lasso. Downside is that is has two parameters (alpha and l1_ratio) to adjust"
   ]
  },
  {
   "cell_type": "code",
   "execution_count": null,
   "metadata": {},
   "outputs": [],
   "source": [
    "#Import\n",
    "from sklearn.linear_model import ElasticNet\n",
    "eln = ElasticNet(alpha=0.001)\n",
    "#Train\n",
    "eln.fit(reg_X_train, reg_y_train)\n",
    "#Test\n",
    "print(\"Training set score: {:.2f}\".format(eln.score(reg_X_train, reg_y_train)))\n",
    "print(\"Test set score: {:.2f}\".format(eln.score(reg_X_test, reg_y_test)))\n",
    "\n",
    "print(\"\\n Possible Modifications: \\n\",ElasticNet())"
   ]
  },
  {
   "cell_type": "markdown",
   "metadata": {},
   "source": [
    "<a id='ch3'></a>\n",
    "# 3. Naive Bayes [return to overview](#main)"
   ]
  },
  {
   "cell_type": "markdown",
   "metadata": {},
   "source": [
    "### Naive Bayes classify by analyizing statistics for each class and assigning to highest probability."
   ]
  },
  {
   "cell_type": "markdown",
   "metadata": {},
   "source": [
    "#### Only for classification. Even faster than linear models, good for very large datasets and high-dimensional data. Often less accurate than linear models. "
   ]
  },
  {
   "cell_type": "markdown",
   "metadata": {},
   "source": [
    "### Gaussian Naive Bayes:"
   ]
  },
  {
   "cell_type": "markdown",
   "metadata": {},
   "source": [
    "##### usually used on very high dimensional data"
   ]
  },
  {
   "cell_type": "code",
   "execution_count": null,
   "metadata": {},
   "outputs": [],
   "source": [
    "#Import\n",
    "from sklearn.naive_bayes import GaussianNB\n",
    "gnb = GaussianNB() \n",
    "#Train\n",
    "gnb.fit(cla_X_train, cla_y_train)\n",
    "#Test\n",
    "print(\"Training set score: {:.2f}\".format(gnb.score(cla_X_train, cla_y_train)))\n",
    "print(\"Test set score: {:.2f}\".format(gnb.score(cla_X_test, cla_y_test)))\n",
    "\n",
    "print(\"\\n Possible Modifications: \\n\",GaussianNB())"
   ]
  },
  {
   "cell_type": "markdown",
   "metadata": {},
   "source": [
    "### Other Naive Bayes:"
   ]
  },
  {
   "cell_type": "markdown",
   "metadata": {},
   "source": [
    "#### Bernoulli Naive Bayes"
   ]
  },
  {
   "cell_type": "code",
   "execution_count": null,
   "metadata": {},
   "outputs": [],
   "source": [
    "#from sklearn.naive_bayes import BernoulliNB\n",
    "#BernoulliNB()\n",
    "# parameter alpha sets model complexity (generalization)"
   ]
  },
  {
   "cell_type": "markdown",
   "metadata": {},
   "source": [
    "##### Assumes count data. Usually used for sparse data such as text."
   ]
  },
  {
   "cell_type": "markdown",
   "metadata": {},
   "source": [
    "#### Multinomial Naive Bayes"
   ]
  },
  {
   "cell_type": "code",
   "execution_count": null,
   "metadata": {},
   "outputs": [],
   "source": [
    "#from sklearn.naive_bayes import MultinomialNB\n",
    "#MultinomialNB()\n",
    "# parameter alpha sets model complexity (generalization)"
   ]
  },
  {
   "cell_type": "markdown",
   "metadata": {},
   "source": [
    "##### Assumes binary data. Usually used for sparse data such as text. Usually performs better than Bernoulli, especially for datasets with a large number of nonzero features (like in large documents)"
   ]
  },
  {
   "cell_type": "markdown",
   "metadata": {},
   "source": [
    "<a id='ch4'></a>\n",
    "# 4. Decision Trees [return to overview](#main)"
   ]
  },
  {
   "cell_type": "markdown",
   "metadata": {},
   "source": [
    "### Classifies by seperating data through decision branches until either all data is correctly classified, or algorithm is urged to generalize."
   ]
  },
  {
   "cell_type": "markdown",
   "metadata": {},
   "source": [
    "#### Very fast, don’t need scaling of the data, can be visualized and easily explained."
   ]
  },
  {
   "cell_type": "markdown",
   "metadata": {},
   "source": [
    "### Decision tree classifier"
   ]
  },
  {
   "cell_type": "code",
   "execution_count": null,
   "metadata": {},
   "outputs": [],
   "source": [
    "#Import\n",
    "from sklearn.tree import DecisionTreeClassifier\n",
    "dtc = DecisionTreeClassifier(random_state=0 , min_samples_leaf=4) \n",
    "# pre-pruning: \n",
    "# set max_depth (how many layers), \n",
    "# max_leaf_nodes (how many leaf nodes are allowed)\n",
    "# min_samples_leaf (how many samples allowed in one leaf node) \n",
    "# for generalization\n",
    "    \n",
    "#Train\n",
    "dtc.fit(cla_X_train, cla_y_train)\n",
    "#Test\n",
    "print(\"Training set score: {:.2f}\".format(dtc.score(cla_X_train, cla_y_train))) \n",
    "print(\"Test set score: {:.2f}\".format(dtc.score(cla_X_test, cla_y_test)))\n",
    "\n",
    "print(\"\\n Possible Modifications: \\n\",DecisionTreeClassifier())"
   ]
  },
  {
   "cell_type": "markdown",
   "metadata": {},
   "source": [
    "### visualize Tree"
   ]
  },
  {
   "cell_type": "code",
   "execution_count": null,
   "metadata": {
    "scrolled": false
   },
   "outputs": [],
   "source": [
    "from sklearn import tree\n",
    "plt.figure(figsize=(20,10))\n",
    "tree.plot_tree(dtc, max_depth=1); "
   ]
  },
  {
   "cell_type": "markdown",
   "metadata": {},
   "source": [
    "or alternatively"
   ]
  },
  {
   "cell_type": "code",
   "execution_count": 100,
   "metadata": {},
   "outputs": [
    {
     "ename": "NameError",
     "evalue": "name 'dtc' is not defined",
     "output_type": "error",
     "traceback": [
      "\u001b[1;31m---------------------------------------------------------------------------\u001b[0m",
      "\u001b[1;31mNameError\u001b[0m                                 Traceback (most recent call last)",
      "\u001b[1;32m<ipython-input-100-7e318ecf41f3>\u001b[0m in \u001b[0;36m<module>\u001b[1;34m\u001b[0m\n\u001b[0;32m      1\u001b[0m \u001b[1;32mfrom\u001b[0m \u001b[0msklearn\u001b[0m\u001b[1;33m.\u001b[0m\u001b[0mtree\u001b[0m \u001b[1;32mimport\u001b[0m \u001b[0mexport_graphviz\u001b[0m\u001b[1;33m\u001b[0m\u001b[1;33m\u001b[0m\u001b[0m\n\u001b[1;32m----> 2\u001b[1;33m export_graphviz(dtc, out_file=\"tree.dot\", class_names=[\"{:02d}\".format(x) for x in range(0,10)],\n\u001b[0m\u001b[0;32m      3\u001b[0m                 feature_names=[\"pixel Nr.{:02d}\".format(x) for x in range(1,65)], impurity=False, filled=True, max_depth=2)\n\u001b[0;32m      4\u001b[0m \u001b[1;31m# for full tree, remove max_depth parameter\u001b[0m\u001b[1;33m\u001b[0m\u001b[1;33m\u001b[0m\u001b[1;33m\u001b[0m\u001b[0m\n",
      "\u001b[1;31mNameError\u001b[0m: name 'dtc' is not defined"
     ]
    }
   ],
   "source": [
    "from sklearn.tree import export_graphviz\n",
    "export_graphviz(dtc, out_file=\"tree.dot\", class_names=[\"{:02d}\".format(x) for x in range(0,10)],\n",
    "                feature_names=[\"pixel Nr.{:02d}\".format(x) for x in range(1,65)], impurity=False, filled=True, max_depth=2)\n",
    "# for full tree, remove max_depth parameter"
   ]
  },
  {
   "cell_type": "code",
   "execution_count": null,
   "metadata": {
    "scrolled": true
   },
   "outputs": [],
   "source": [
    "import graphviz\n",
    "\n",
    "with open(\"tree.dot\") as f:\n",
    "    dot_graph = f.read()\n",
    "display(graphviz.Source(dot_graph))\n",
    "# for full tree, remove max_depth parameter"
   ]
  },
  {
   "cell_type": "markdown",
   "metadata": {},
   "source": [
    "### show feature importances"
   ]
  },
  {
   "cell_type": "code",
   "execution_count": 22,
   "metadata": {},
   "outputs": [
    {
     "ename": "NameError",
     "evalue": "name 'dtc' is not defined",
     "output_type": "error",
     "traceback": [
      "\u001b[1;31m---------------------------------------------------------------------------\u001b[0m",
      "\u001b[1;31mNameError\u001b[0m                                 Traceback (most recent call last)",
      "\u001b[1;32m<ipython-input-22-ca06f21b497a>\u001b[0m in \u001b[0;36m<module>\u001b[1;34m\u001b[0m\n\u001b[1;32m----> 1\u001b[1;33m \u001b[0mprint\u001b[0m\u001b[1;33m(\u001b[0m\u001b[1;34m\"Feature importances: \\n\"\u001b[0m\u001b[1;33m,\u001b[0m\u001b[0mdtc\u001b[0m\u001b[1;33m.\u001b[0m\u001b[0mfeature_importances_\u001b[0m\u001b[1;33m)\u001b[0m\u001b[1;33m\u001b[0m\u001b[1;33m\u001b[0m\u001b[0m\n\u001b[0m",
      "\u001b[1;31mNameError\u001b[0m: name 'dtc' is not defined"
     ]
    }
   ],
   "source": [
    "print(\"Feature importances: \\n\",dtc.feature_importances_)"
   ]
  },
  {
   "cell_type": "code",
   "execution_count": 23,
   "metadata": {
    "scrolled": true
   },
   "outputs": [
    {
     "ename": "NameError",
     "evalue": "name 'dtc' is not defined",
     "output_type": "error",
     "traceback": [
      "\u001b[1;31m---------------------------------------------------------------------------\u001b[0m",
      "\u001b[1;31mNameError\u001b[0m                                 Traceback (most recent call last)",
      "\u001b[1;32m<ipython-input-23-83b5d07cabd0>\u001b[0m in \u001b[0;36m<module>\u001b[1;34m\u001b[0m\n\u001b[0;32m      1\u001b[0m \u001b[0mn_features\u001b[0m \u001b[1;33m=\u001b[0m \u001b[0mdigits\u001b[0m\u001b[1;33m.\u001b[0m\u001b[0mdata\u001b[0m\u001b[1;33m.\u001b[0m\u001b[0mshape\u001b[0m\u001b[1;33m[\u001b[0m\u001b[1;36m1\u001b[0m\u001b[1;33m]\u001b[0m\u001b[1;33m\u001b[0m\u001b[1;33m\u001b[0m\u001b[0m\n\u001b[0;32m      2\u001b[0m \u001b[0mplt\u001b[0m\u001b[1;33m.\u001b[0m\u001b[0mfigure\u001b[0m\u001b[1;33m(\u001b[0m\u001b[0mfigsize\u001b[0m\u001b[1;33m=\u001b[0m\u001b[1;33m(\u001b[0m\u001b[1;36m20\u001b[0m\u001b[1;33m,\u001b[0m\u001b[1;36m10\u001b[0m\u001b[1;33m)\u001b[0m\u001b[1;33m)\u001b[0m\u001b[1;33m\u001b[0m\u001b[1;33m\u001b[0m\u001b[0m\n\u001b[1;32m----> 3\u001b[1;33m \u001b[0mplt\u001b[0m\u001b[1;33m.\u001b[0m\u001b[0mbarh\u001b[0m\u001b[1;33m(\u001b[0m\u001b[0mnp\u001b[0m\u001b[1;33m.\u001b[0m\u001b[0marange\u001b[0m\u001b[1;33m(\u001b[0m\u001b[0mn_features\u001b[0m\u001b[1;33m)\u001b[0m\u001b[1;33m,\u001b[0m \u001b[0mdtc\u001b[0m\u001b[1;33m.\u001b[0m\u001b[0mfeature_importances_\u001b[0m\u001b[1;33m,\u001b[0m \u001b[0malign\u001b[0m\u001b[1;33m=\u001b[0m\u001b[1;34m'center'\u001b[0m\u001b[1;33m)\u001b[0m\u001b[1;33m\u001b[0m\u001b[1;33m\u001b[0m\u001b[0m\n\u001b[0m\u001b[0;32m      4\u001b[0m \u001b[0mplt\u001b[0m\u001b[1;33m.\u001b[0m\u001b[0myticks\u001b[0m\u001b[1;33m(\u001b[0m\u001b[0mnp\u001b[0m\u001b[1;33m.\u001b[0m\u001b[0marange\u001b[0m\u001b[1;33m(\u001b[0m\u001b[0mn_features\u001b[0m\u001b[1;33m)\u001b[0m\u001b[1;33m,\u001b[0m \u001b[1;33m[\u001b[0m\u001b[1;34m\"pixel Nr.{:02d}\"\u001b[0m\u001b[1;33m.\u001b[0m\u001b[0mformat\u001b[0m\u001b[1;33m(\u001b[0m\u001b[0mx\u001b[0m\u001b[1;33m)\u001b[0m \u001b[1;32mfor\u001b[0m \u001b[0mx\u001b[0m \u001b[1;32min\u001b[0m \u001b[0mrange\u001b[0m\u001b[1;33m(\u001b[0m\u001b[1;36m1\u001b[0m\u001b[1;33m,\u001b[0m\u001b[1;36m65\u001b[0m\u001b[1;33m)\u001b[0m\u001b[1;33m]\u001b[0m\u001b[1;33m)\u001b[0m\u001b[1;33m\u001b[0m\u001b[1;33m\u001b[0m\u001b[0m\n\u001b[0;32m      5\u001b[0m \u001b[0mplt\u001b[0m\u001b[1;33m.\u001b[0m\u001b[0mxlabel\u001b[0m\u001b[1;33m(\u001b[0m\u001b[1;34m\"Feature importance\"\u001b[0m\u001b[1;33m)\u001b[0m\u001b[1;33m\u001b[0m\u001b[1;33m\u001b[0m\u001b[0m\n",
      "\u001b[1;31mNameError\u001b[0m: name 'dtc' is not defined"
     ]
    },
    {
     "data": {
      "text/plain": [
       "<Figure size 1440x720 with 0 Axes>"
      ]
     },
     "metadata": {},
     "output_type": "display_data"
    }
   ],
   "source": [
    "n_features = digits.data.shape[1]\n",
    "plt.figure(figsize=(20,10))\n",
    "plt.barh(np.arange(n_features), dtc.feature_importances_, align='center')\n",
    "plt.yticks(np.arange(n_features), [\"pixel Nr.{:02d}\".format(x) for x in range(1,65)])\n",
    "plt.xlabel(\"Feature importance\")\n",
    "plt.ylabel(\"Feature\")\n",
    "plt.ylim(-1, n_features)"
   ]
  },
  {
   "cell_type": "markdown",
   "metadata": {},
   "source": [
    "<a id='ch5'></a>\n",
    "# 5. Random Trees [return to overview](#main)"
   ]
  },
  {
   "cell_type": "markdown",
   "metadata": {},
   "source": [
    "### Improved generalization, as it uses several trees instead of one. Each tree is only provided with a randomly assigned portion of  features."
   ]
  },
  {
   "cell_type": "markdown",
   "metadata": {},
   "source": [
    "#### In regards of classification and regression among the most widely used algorithms. \n",
    "#### Nearly always perform better than a single decision tree, very robust and powerful. Don’t need scaling of data. Not good for very high-dimensional sparse data. "
   ]
  },
  {
   "cell_type": "code",
   "execution_count": 24,
   "metadata": {},
   "outputs": [
    {
     "name": "stdout",
     "output_type": "stream",
     "text": [
      "Training set score: 1.00\n",
      "Test set score: 0.98\n",
      "\n",
      " Possible Modifications: \n",
      " RandomForestClassifier(bootstrap=True, ccp_alpha=0.0, class_weight=None,\n",
      "                       criterion='gini', max_depth=None, max_features='auto',\n",
      "                       max_leaf_nodes=None, max_samples=None,\n",
      "                       min_impurity_decrease=0.0, min_impurity_split=None,\n",
      "                       min_samples_leaf=1, min_samples_split=2,\n",
      "                       min_weight_fraction_leaf=0.0, n_estimators=100,\n",
      "                       n_jobs=None, oob_score=False, random_state=None,\n",
      "                       verbose=0, warm_start=False)\n"
     ]
    }
   ],
   "source": [
    "from sklearn.ensemble import RandomForestClassifier\n",
    "rfc = RandomForestClassifier(random_state=0)\n",
    "# usually standard paramters already work well\n",
    "# set n_estimators (amount of trees) and max_features to prevent overfitting\n",
    "\n",
    "# just like in regular trees max_depth, max_leaf_nodes and min_samples_leaf can be tuned for better generalization\n",
    "\n",
    "#Train\n",
    "rfc.fit(cla_X_train, cla_y_train)\n",
    "#Test\n",
    "print(\"Training set score: {:.2f}\".format(rfc.score(cla_X_train, cla_y_train)))\n",
    "print(\"Test set score: {:.2f}\".format(rfc.score(cla_X_test, cla_y_test)))\n",
    "\n",
    "print(\"\\n Possible Modifications: \\n\",RandomForestClassifier())"
   ]
  },
  {
   "cell_type": "markdown",
   "metadata": {},
   "source": [
    "<a id='ch6'></a>\n",
    "# 6. Gradient boosted regression trees (gradient boosting machines)\n",
    "# [return to overview](#main)"
   ]
  },
  {
   "cell_type": "markdown",
   "metadata": {},
   "source": [
    "### sequentially builds trees, where each tree tries to correct the mistakes of the previous one. The trees are commenly shallow and can only predict part of the data accurately. Combined the forecast becomes more precise"
   ]
  },
  {
   "cell_type": "markdown",
   "metadata": {},
   "source": [
    "##### Often slightly more accurate than random forests. Slower to train but faster to predict than random forests, and smaller in memory. Need more parameter tuning than random forests."
   ]
  },
  {
   "cell_type": "markdown",
   "metadata": {},
   "source": [
    "#### Classifier"
   ]
  },
  {
   "cell_type": "code",
   "execution_count": 25,
   "metadata": {},
   "outputs": [
    {
     "name": "stdout",
     "output_type": "stream",
     "text": [
      "Training set score: 1.00\n",
      "Test set score: 0.97\n",
      "\n",
      " Possible Modifications: \n",
      " GradientBoostingClassifier(ccp_alpha=0.0, criterion='friedman_mse', init=None,\n",
      "                           learning_rate=0.1, loss='deviance', max_depth=3,\n",
      "                           max_features=None, max_leaf_nodes=None,\n",
      "                           min_impurity_decrease=0.0, min_impurity_split=None,\n",
      "                           min_samples_leaf=1, min_samples_split=2,\n",
      "                           min_weight_fraction_leaf=0.0, n_estimators=100,\n",
      "                           n_iter_no_change=None, presort='deprecated',\n",
      "                           random_state=None, subsample=1.0, tol=0.0001,\n",
      "                           validation_fraction=0.1, verbose=0,\n",
      "                           warm_start=False)\n"
     ]
    }
   ],
   "source": [
    "from sklearn.ensemble import GradientBoostingClassifier\n",
    "gbc = GradientBoostingClassifier(random_state=0, max_depth=2, learning_rate=0.25) # set max_depth and learning_rate for better generalization\n",
    "#Train\n",
    "gbc.fit(cla_X_train, cla_y_train)\n",
    "#Test\n",
    "print(\"Training set score: {:.2f}\".format(gbc.score(cla_X_train, cla_y_train)))\n",
    "print(\"Test set score: {:.2f}\".format(gbc.score(cla_X_test, cla_y_test)))\n",
    "\n",
    "print(\"\\n Possible Modifications: \\n\",GradientBoostingClassifier())"
   ]
  },
  {
   "cell_type": "code",
   "execution_count": 26,
   "metadata": {},
   "outputs": [
    {
     "data": {
      "text/plain": [
       "array([[-11.15951136,  -6.06383504,  11.38573609, ...,  -8.48897862,\n",
       "         -7.64374054,  -9.83855635],\n",
       "       [-10.20544931,  -8.77760539,  -7.74015269, ..., -11.32031938,\n",
       "          2.96918349,  -7.56709239],\n",
       "       [-11.31716051,  -5.94061443,   6.95980084, ..., -10.55658044,\n",
       "         -6.62839216, -10.05901155],\n",
       "       ...,\n",
       "       [-11.66013766,  -9.31656801,  -9.82213751, ..., -10.32419568,\n",
       "         -9.42411191,  -4.70090291],\n",
       "       [-10.57277137,   0.17267439,  -9.0778726 , ..., -12.31681058,\n",
       "         -3.24850446, -10.93361268],\n",
       "       [ -8.32632843, -10.02121561,  -9.56349362, ..., -10.43400711,\n",
       "         -9.66317195,   5.04792548]])"
      ]
     },
     "execution_count": 26,
     "metadata": {},
     "output_type": "execute_result"
    }
   ],
   "source": [
    "# show decision function. Also available for some other algorithms. Try it out!\n",
    "gbc.decision_function(cla_X_test)"
   ]
  },
  {
   "cell_type": "markdown",
   "metadata": {},
   "source": [
    "### Regressor"
   ]
  },
  {
   "cell_type": "code",
   "execution_count": 101,
   "metadata": {},
   "outputs": [
    {
     "name": "stdout",
     "output_type": "stream",
     "text": [
      "Training set score: 0.54\n",
      "Test set score: 0.29\n",
      "\n",
      " Possible Modifications: \n",
      " GradientBoostingRegressor(alpha=0.9, ccp_alpha=0.0, criterion='friedman_mse',\n",
      "                          init=None, learning_rate=0.1, loss='ls', max_depth=3,\n",
      "                          max_features=None, max_leaf_nodes=None,\n",
      "                          min_impurity_decrease=0.0, min_impurity_split=None,\n",
      "                          min_samples_leaf=1, min_samples_split=2,\n",
      "                          min_weight_fraction_leaf=0.0, n_estimators=100,\n",
      "                          n_iter_no_change=None, presort='deprecated',\n",
      "                          random_state=None, subsample=1.0, tol=0.0001,\n",
      "                          validation_fraction=0.1, verbose=0, warm_start=False)\n"
     ]
    }
   ],
   "source": [
    "from sklearn.ensemble import GradientBoostingRegressor\n",
    "gbr = GradientBoostingRegressor(random_state=0, max_depth=3, learning_rate=0.01) # set max_depth and learning_rate for better generalization\n",
    "#Train\n",
    "gbr.fit(reg_X_train, reg_y_train)\n",
    "#Test\n",
    "print(\"Training set score: {:.2f}\".format(gbr.score(reg_X_train, reg_y_train)))\n",
    "print(\"Test set score: {:.2f}\".format(gbr.score(reg_X_test, reg_y_test)))\n",
    "\n",
    "print(\"\\n Possible Modifications: \\n\",GradientBoostingRegressor())"
   ]
  },
  {
   "cell_type": "markdown",
   "metadata": {},
   "source": [
    "<a id='ch7'></a>\n",
    "# 7. Support vector machines [return to overview](#main)"
   ]
  },
  {
   "cell_type": "markdown",
   "metadata": {},
   "source": [
    "### Complicated Math.  Classifies, by purposefully adding dimensions to features to seperate them in feature space. Points are classified by position in regards to hyperplanes."
   ]
  },
  {
   "cell_type": "markdown",
   "metadata": {},
   "source": [
    "#### Powerful for medium-sized (up to 10k samples) datasets of features with similar meaning. Requires scaling of data (0 to 1), sensitive to parameters. More samples become intense in terms of runtime and memory usage"
   ]
  },
  {
   "cell_type": "markdown",
   "metadata": {},
   "source": [
    "#### Scaling"
   ]
  },
  {
   "cell_type": "code",
   "execution_count": 28,
   "metadata": {},
   "outputs": [],
   "source": [
    "# import\n",
    "from sklearn.preprocessing import MinMaxScaler\n",
    "scaler = MinMaxScaler()\n",
    "# fit scaling\n",
    "scaler.fit(cla_X_train)\n",
    "# apply scaling\n",
    "scaled_cla_X_train=scaler.transform(cla_X_train)\n",
    "scaled_cla_X_test=scaler.transform(cla_X_test)"
   ]
  },
  {
   "cell_type": "code",
   "execution_count": 29,
   "metadata": {},
   "outputs": [
    {
     "name": "stdout",
     "output_type": "stream",
     "text": [
      "Training set score: 1.00\n",
      "Test set score: 1.00\n",
      "\n",
      " Possible Modifications: \n",
      " SVC(C=1.0, break_ties=False, cache_size=200, class_weight=None, coef0=0.0,\n",
      "    decision_function_shape='ovr', degree=3, gamma='scale', kernel='rbf',\n",
      "    max_iter=-1, probability=False, random_state=None, shrinking=True,\n",
      "    tol=0.001, verbose=False)\n"
     ]
    }
   ],
   "source": [
    "from sklearn.svm import SVC\n",
    "svc = SVC(kernel='rbf', C=10, gamma=0.35, random_state=0)\n",
    "# set kernel, C and gamma for generalization\n",
    "svc.fit(scaled_cla_X_train, cla_y_train)\n",
    "#Test\n",
    "print(\"Training set score: {:.2f}\".format(svc.score(scaled_cla_X_train, cla_y_train)))\n",
    "print(\"Test set score: {:.2f}\".format(svc.score(scaled_cla_X_test, cla_y_test)))\n",
    "\n",
    "print(\"\\n Possible Modifications: \\n\",SVC())"
   ]
  },
  {
   "cell_type": "markdown",
   "metadata": {},
   "source": [
    "<a id='ch8'></a>\n",
    "# 8. Neural Networks (deep learning) [return to overview](#main)"
   ]
  },
  {
   "cell_type": "markdown",
   "metadata": {},
   "source": [
    "### Works through biologically inspired neurons. Weighted sum of input determine score in neuron. Decision function makes a decision based on the score. Weights are adjusted during fit. For better fit, layers of neurons (hidden layers) can be implemented between input and output. For most problems one hidden layer is sufficient. Two can be used as well. More are usually not required"
   ]
  },
  {
   "cell_type": "markdown",
   "metadata": {},
   "source": [
    "#### Can build very complex models, particularly for large datasets. Sensitive to scaling of the data (mean=0 and std=1) and to the choice of parameters. Large models need a long time to train."
   ]
  },
  {
   "cell_type": "markdown",
   "metadata": {},
   "source": [
    "For more flexible and larger models in Python, try keras, lasagna or tensor-flow on the thenao library, instead of scikit-learn.\n",
    "All popular deep-learning libraries also provide using GPU's, something that scikit doesn't offer. GPU´s accelarate calculations by 10x to 100x and are essential for large-scale datasets"
   ]
  },
  {
   "cell_type": "markdown",
   "metadata": {},
   "source": [
    "#### Scaling"
   ]
  },
  {
   "cell_type": "code",
   "execution_count": 30,
   "metadata": {},
   "outputs": [],
   "source": [
    "# Classifier Data\n",
    "# import\n",
    "from sklearn.preprocessing import StandardScaler\n",
    "scaler = StandardScaler()\n",
    "# fit scaling\n",
    "scaler.fit(cla_X_train) #it's important to only fit by the training data and not the whole dataset. Otherwise too much infortmation is provided.\n",
    "# apply scaling\n",
    "scaled_cla_X_train=scaler.transform(cla_X_train)\n",
    "scaled_cla_X_test=scaler.transform(cla_X_test)"
   ]
  },
  {
   "cell_type": "code",
   "execution_count": 31,
   "metadata": {},
   "outputs": [],
   "source": [
    "# Regression Data\n",
    "# import\n",
    "from sklearn.preprocessing import StandardScaler\n",
    "scaler = StandardScaler()\n",
    "# fit scaling\n",
    "scaler.fit(reg_X_train) #it's important to only fit by the training data and not the whole dataset. Otherwise too much infortmation is provided.\n",
    "# apply scaling\n",
    "scaled_reg_X_train=scaler.transform(reg_X_train)\n",
    "scaled_reg_X_test=scaler.transform(reg_X_test)"
   ]
  },
  {
   "cell_type": "markdown",
   "metadata": {},
   "source": [
    "## neural network classifier"
   ]
  },
  {
   "cell_type": "code",
   "execution_count": 32,
   "metadata": {},
   "outputs": [
    {
     "name": "stdout",
     "output_type": "stream",
     "text": [
      "Training set score: 1.00\n",
      "Test set score: 0.97\n",
      "\n",
      " Possible Modifications: \n",
      " MLPClassifier(activation='relu', alpha=0.0001, batch_size='auto', beta_1=0.9,\n",
      "              beta_2=0.999, early_stopping=False, epsilon=1e-08,\n",
      "              hidden_layer_sizes=(100,), learning_rate='constant',\n",
      "              learning_rate_init=0.001, max_fun=15000, max_iter=200,\n",
      "              momentum=0.9, n_iter_no_change=10, nesterovs_momentum=True,\n",
      "              power_t=0.5, random_state=None, shuffle=True, solver='adam',\n",
      "              tol=0.0001, validation_fraction=0.1, verbose=False,\n",
      "              warm_start=False)\n"
     ]
    }
   ],
   "source": [
    "from sklearn.neural_network import MLPClassifier\n",
    "mlpc = MLPClassifier(max_iter=1000, alpha=2.7,hidden_layer_sizes=(13,8), random_state=0)\n",
    "# set solver. standard is 'adam', which works well in most cases, but needs scaled data. \n",
    "# 'lbgs' is more robust to unscaled data, but has a large processing time for large datasets or large models\n",
    "\n",
    "# increase max_iter if warning received\n",
    "\n",
    "# Many parameters to generalize. \n",
    "# Main: alpha, hidden_layer_sizes=(#neurons in first hidden layer,#neurons in second hidden layer,#neu...])\n",
    "# best to overfit and then reduce hidden layers and #neurons\n",
    "\n",
    "#activation function in the neruon activation= 'tanh' or the standard 'relu'. Both works\n",
    "\n",
    "mlpc.fit(scaled_cla_X_train, cla_y_train)\n",
    "#Test\n",
    "print(\"Training set score: {:.2f}\".format(mlpc.score(scaled_cla_X_train, cla_y_train)))\n",
    "print(\"Test set score: {:.2f}\".format(mlpc.score(scaled_cla_X_test, cla_y_test)))\n",
    "\n",
    "print(\"\\n Possible Modifications: \\n\",MLPClassifier())"
   ]
  },
  {
   "cell_type": "code",
   "execution_count": 33,
   "metadata": {},
   "outputs": [
    {
     "data": {
      "text/plain": [
       "''"
      ]
     },
     "execution_count": 33,
     "metadata": {},
     "output_type": "execute_result"
    },
    {
     "data": {
      "image/png": "[encoded data removed]",
      "text/plain": [
       "<Figure size 1440x1440 with 4 Axes>"
      ]
     },
     "metadata": {
      "needs_background": "light"
     },
     "output_type": "display_data"
    }
   ],
   "source": [
    "fig,axes =plt.subplots(1,3, figsize=(20, 20))\n",
    "plt.subplots_adjust(wspace=0.6,hspace=1.0)\n",
    "fig.suptitle('samples with wrong predictions', fontsize=20, fontweight='bold',y=.9)\n",
    "axes[0].imshow(mlpc.coefs_[0], interpolation='none', cmap='viridis')\n",
    "axes[0].yaxis.set_ticks(range(len(mlpc.coefs_[0])))\n",
    "axes[0].set_yticklabels([\"pixel Nr.{:02d}\".format(x) for x in range(1,len(mlpc.coefs_[0])+1)])\n",
    "axes[0].set_xlabel(\"Columns in weight matrix\")\n",
    "axes[0].set_ylabel(\"Input feature\")\n",
    "axes[1].imshow(mlpc.coefs_[1], interpolation='none', cmap='viridis')\n",
    "axes[1].yaxis.set_ticks(range(len(mlpc.coefs_[1])))\n",
    "axes[1].set_yticklabels([\"Neuron Nr.{:02d}\".format(x) for x in range(1,len(mlpc.coefs_[1])+1)])\n",
    "axes[1].set_xlabel(\"Columns in weight matrix\")\n",
    "axes[1].set_ylabel(\"Input neurons of hidden layer 1\")\n",
    "axes[2].imshow(mlpc.coefs_[2], interpolation='none', cmap='viridis')\n",
    "axes[2].yaxis.set_ticks(range(len(mlpc.coefs_[2])))\n",
    "axes[2].set_yticklabels([\"Neuron Nr..{:2d}\".format(x) for x in range(1,len(mlpc.coefs_[2])+1)])\n",
    "axes[2].set_xlabel(\"Columns in weight matrix\")\n",
    "axes[2].set_ylabel(\"Input neurons of hidden layer 2\")\n",
    "sm = plt.cm.ScalarMappable(cmap='viridis', \n",
    "norm=plt.Normalize(vmin=min([np.amax(mlpc.coefs_[0]),np.amax(mlpc.coefs_[1]),np.amax(mlpc.coefs_[2])]), vmax=max([np.amax(mlpc.coefs_[0]),np.amax(mlpc.coefs_[1]),np.amax(mlpc.coefs_[2])])))\n",
    "plt.colorbar(sm,fraction=0.25, pad=0.04)\n",
    "\n",
    ";"
   ]
  },
  {
   "cell_type": "markdown",
   "metadata": {},
   "source": [
    "## neural network regressor"
   ]
  },
  {
   "cell_type": "code",
   "execution_count": 34,
   "metadata": {
    "scrolled": true
   },
   "outputs": [
    {
     "name": "stdout",
     "output_type": "stream",
     "text": [
      "Training set score: 0.56\n",
      "Test set score: 0.38\n",
      "\n",
      " Possible Modifications: \n",
      " MLPRegressor(activation='relu', alpha=0.0001, batch_size='auto', beta_1=0.9,\n",
      "             beta_2=0.999, early_stopping=False, epsilon=1e-08,\n",
      "             hidden_layer_sizes=(100,), learning_rate='constant',\n",
      "             learning_rate_init=0.001, max_fun=15000, max_iter=200,\n",
      "             momentum=0.9, n_iter_no_change=10, nesterovs_momentum=True,\n",
      "             power_t=0.5, random_state=None, shuffle=True, solver='adam',\n",
      "             tol=0.0001, validation_fraction=0.1, verbose=False,\n",
      "             warm_start=False)\n"
     ]
    }
   ],
   "source": [
    "from sklearn.neural_network import MLPRegressor\n",
    "mlpr = MLPRegressor(max_iter=50000,alpha=1000,hidden_layer_sizes=(100), random_state=0)\n",
    "# set solver. standard is 'adam', which works well in most cases, but needs scaled data. \n",
    "# 'lbgs' is more robust to unscaled data, but has a large processing time for large datasets or large models\n",
    "\n",
    "# increase max_iter if warning received\n",
    "\n",
    "# Many parameters to generalize. \n",
    "# Main: alpha, hidden_layer_sizes=(#neurons in first hidden layer,#neurons in second hidden layer,#neu...])\n",
    "# best to overfit and then reduce hidden layers and #neurons\n",
    "\n",
    "#activation function in the neruon activation= 'tanh' (nonlinear data) or the standard 'relu' (linear data)\n",
    "\n",
    "mlpr.fit(scaled_reg_X_train, reg_y_train)\n",
    "#Test\n",
    "print(\"Training set score: {:.2f}\".format(mlpr.score(scaled_reg_X_train, reg_y_train)))\n",
    "print(\"Test set score: {:.2f}\".format(mlpr.score(scaled_reg_X_test, reg_y_test)))\n",
    "\n",
    "print(\"\\n Possible Modifications: \\n\",MLPRegressor())"
   ]
  }
 ],
 "metadata": {
  "kernelspec": {
   "display_name": "Python 3",
   "language": "python",
   "name": "python3"
  },
  "language_info": {
   "codemirror_mode": {
    "name": "ipython",
    "version": 3
   },
   "file_extension": ".py",
   "mimetype": "text/x-python",
   "name": "python",
   "nbconvert_exporter": "python",
   "pygments_lexer": "ipython3",
   "version": "3.7.6"
  }
 },
 "nbformat": 4,
 "nbformat_minor": 4
}
