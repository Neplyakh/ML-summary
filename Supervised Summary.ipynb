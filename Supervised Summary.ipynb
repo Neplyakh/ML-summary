{
 "cells": [
  {
   "cell_type": "code",
   "execution_count": 312,
   "metadata": {},
   "outputs": [],
   "source": [
    "import numpy as np"
   ]
  },
  {
   "cell_type": "code",
   "execution_count": 313,
   "metadata": {},
   "outputs": [],
   "source": [
    "import matplotlib.pyplot as plt"
   ]
  },
  {
   "cell_type": "markdown",
   "metadata": {},
   "source": [
    "# Classification Dataset"
   ]
  },
  {
   "cell_type": "code",
   "execution_count": 413,
   "metadata": {},
   "outputs": [
    {
     "name": "stdout",
     "output_type": "stream",
     "text": [
      "digits.keys():\n",
      " dict_keys(['data', 'target', 'target_names', 'images', 'DESCR'])\n"
     ]
    }
   ],
   "source": [
    "#load dataset\n",
    "from sklearn.datasets import load_digits\n",
    "digits=load_digits()\n",
    "print(\"digits.keys():\\n\", digits.keys())"
   ]
  },
  {
   "cell_type": "code",
   "execution_count": 414,
   "metadata": {
    "scrolled": true
   },
   "outputs": [
    {
     "name": "stdout",
     "output_type": "stream",
     "text": [
      ".. _digits_dataset:\n",
      "\n",
      "Optical recognition of handwritten digits dataset\n",
      "...\n"
     ]
    }
   ],
   "source": [
    "# data set description\n",
    "i=70\n",
    "print(digits['DESCR'][:i]+ \"\\n...\") #increase i for more info"
   ]
  },
  {
   "cell_type": "code",
   "execution_count": 790,
   "metadata": {
    "scrolled": false
   },
   "outputs": [
    {
     "data": {
      "image/png": "[encoded data removed]",
      "text/plain": [
       "<Figure size 720x720 with 9 Axes>"
      ]
     },
     "metadata": {
      "needs_background": "light"
     },
     "output_type": "display_data"
    }
   ],
   "source": [
    "# plot samples\n",
    "fig,axes =plt.subplots(3,3, figsize=(10, 10))\n",
    "fig.suptitle('some samples', fontsize=20, fontweight='bold',y=.95)\n",
    "for i,ax in zip(range(1,10),axes.ravel()):\n",
    "    ax.xaxis.set_ticks(np.arange(0.,7.1, 1.))\n",
    "    ax.yaxis.set_ticks(np.arange(0.,7.1, 1.))\n",
    "    ax.imshow(digits.images[-i], cmap=plt.cm.gray_r, interpolation='nearest')\n",
    "    ax.set_title(\"number: {:}\".format(digits.target[-i]))"
   ]
  },
  {
   "cell_type": "code",
   "execution_count": 416,
   "metadata": {},
   "outputs": [
    {
     "name": "stdout",
     "output_type": "stream",
     "text": [
      "Shape of digit data: (1797, 64)\n"
     ]
    }
   ],
   "source": [
    "#amount of samples and features per sample\n",
    "print(\"Shape of digit data:\", digits.data.shape)"
   ]
  },
  {
   "cell_type": "code",
   "execution_count": 417,
   "metadata": {},
   "outputs": [
    {
     "name": "stdout",
     "output_type": "stream",
     "text": [
      "Target names: [0 1 2 3 4 5 6 7 8 9]\n"
     ]
    }
   ],
   "source": [
    "#target names\n",
    "print(\"Target names:\",digits.target_names)"
   ]
  },
  {
   "cell_type": "code",
   "execution_count": 418,
   "metadata": {},
   "outputs": [
    {
     "name": "stdout",
     "output_type": "stream",
     "text": [
      "Sample counts per class:\n",
      " {0: 178, 1: 182, 2: 177, 3: 183, 4: 181, 5: 182, 6: 181, 7: 179, 8: 174, 9: 180}\n"
     ]
    }
   ],
   "source": [
    "#sample counts per class\n",
    "print(\"Sample counts per class:\\n\",\n",
    "      {n: v for n, v in zip(digits.target_names, np.bincount(digits.target))})"
   ]
  },
  {
   "cell_type": "code",
   "execution_count": 419,
   "metadata": {},
   "outputs": [],
   "source": [
    "#splitting data in test and train datasets\n",
    "from sklearn.model_selection import train_test_split\n",
    "cla_X_train, cla_X_test, cla_y_train, cla_y_test = train_test_split(\n",
    "    digits['data'], digits['target'], random_state=0) #random_state is seed for random number generation"
   ]
  },
  {
   "cell_type": "markdown",
   "metadata": {},
   "source": [
    "# Regression Dataset"
   ]
  },
  {
   "cell_type": "code",
   "execution_count": 420,
   "metadata": {},
   "outputs": [
    {
     "name": "stdout",
     "output_type": "stream",
     "text": [
      "diabetes.keys():\n",
      " dict_keys(['data', 'target', 'DESCR', 'feature_names', 'data_filename', 'target_filename'])\n"
     ]
    }
   ],
   "source": [
    "#load dataset\n",
    "from sklearn.datasets import load_diabetes\n",
    "diabetes=load_diabetes()\n",
    "print(\"diabetes.keys():\\n\", diabetes.keys())"
   ]
  },
  {
   "cell_type": "code",
   "execution_count": 421,
   "metadata": {},
   "outputs": [
    {
     "name": "stdout",
     "output_type": "stream",
     "text": [
      ".. _digits_dataset:\n",
      "\n",
      "Optical recognition of handwritten digits dataset\n",
      "--------------------------------------------------\n",
      "\n",
      "**Data Set Characteristics:**\n",
      "\n",
      "    :Number of Instances: 5620\n",
      "    :Number of Attributes: 64\n",
      "    :Attribute Information: 8x8 image of integer pixels in the range 0..16.\n",
      "    :Missing Attribute Values: None\n",
      "...\n"
     ]
    }
   ],
   "source": [
    "# data set description\n",
    "i=326\n",
    "print(digits['DESCR'][:i]+ \"\\n...\") #increase i for more info"
   ]
  },
  {
   "cell_type": "code",
   "execution_count": 422,
   "metadata": {},
   "outputs": [
    {
     "name": "stdout",
     "output_type": "stream",
     "text": [
      "Shape of digit data: (1797, 64)\n"
     ]
    }
   ],
   "source": [
    "#amount of samples and features per sample\n",
    "print(\"Shape of digit data:\", digits.data.shape)"
   ]
  },
  {
   "cell_type": "code",
   "execution_count": 423,
   "metadata": {},
   "outputs": [
    {
     "name": "stdout",
     "output_type": "stream",
     "text": [
      "Target names: ['age', 'sex', 'bmi', 'bp', 's1', 's2', 's3', 's4', 's5', 's6']\n"
     ]
    }
   ],
   "source": [
    "#target names\n",
    "print(\"Target names:\", diabetes.feature_names)"
   ]
  },
  {
   "cell_type": "code",
   "execution_count": 424,
   "metadata": {},
   "outputs": [],
   "source": [
    "#splitting data in test and train datasets\n",
    "from sklearn.model_selection import train_test_split\n",
    "reg_X_train, reg_X_test, reg_y_train, reg_y_test = train_test_split(\n",
    "    diabetes['data'], diabetes['target'], random_state=0) #random_state is seed for random number generation"
   ]
  },
  {
   "cell_type": "markdown",
   "metadata": {},
   "source": [
    "## k-nearast neighbors (knn)"
   ]
  },
  {
   "cell_type": "markdown",
   "metadata": {},
   "source": [
    "#### For small datasets, good as a baseline, easy to explain. "
   ]
  },
  {
   "cell_type": "markdown",
   "metadata": {},
   "source": [
    "### knn classifier"
   ]
  },
  {
   "cell_type": "code",
   "execution_count": 736,
   "metadata": {
    "scrolled": true
   },
   "outputs": [
    {
     "name": "stdout",
     "output_type": "stream",
     "text": [
      "Training set score: 0.99\n",
      "Test set score: 0.99\n",
      "\n",
      " Possible Modifications: \n",
      " KNeighborsClassifier(algorithm='auto', leaf_size=30, metric='minkowski',\n",
      "                     metric_params=None, n_jobs=None, n_neighbors=5, p=2,\n",
      "                     weights='uniform')\n"
     ]
    }
   ],
   "source": [
    "#Import\n",
    "from sklearn.neighbors import KNeighborsClassifier\n",
    "knn = KNeighborsClassifier(n_neighbors=3)\n",
    "#Train\n",
    "knn.fit(cla_X_train, cla_y_train)\n",
    "#Test\n",
    "print(\"Training set score: {:.2f}\".format(knn.score(cla_X_train, cla_y_train)))\n",
    "print(\"Test set score: {:.2f}\".format(knn.score(cla_X_test, cla_y_test)))\n",
    "\n",
    "print(\"\\n Possible Modifications: \\n\",KNeighborsClassifier())"
   ]
  },
  {
   "cell_type": "markdown",
   "metadata": {},
   "source": [
    "# Example for Outputting Predictions of Classifier"
   ]
  },
  {
   "cell_type": "code",
   "execution_count": 786,
   "metadata": {},
   "outputs": [
    {
     "data": {
      "image/png": "[encoded data removed]",
      "text/plain": [
       "<Figure size 792x792 with 9 Axes>"
      ]
     },
     "metadata": {
      "needs_background": "light"
     },
     "output_type": "display_data"
    }
   ],
   "source": [
    "# plot samples\n",
    "fig,axes =plt.subplots(3,3, figsize=(11, 11))\n",
    "fig.suptitle('some samples and their predictions', fontsize=20, fontweight='bold',y=.95)\n",
    "for i,ax in zip(range(1,10),axes.ravel()):\n",
    "    pic=cla_X_test[i].reshape(8,8)\n",
    "    ax.xaxis.set_ticks(np.arange(0.,7.1, 1.))\n",
    "    ax.yaxis.set_ticks(np.arange(0.,7.1, 1.))\n",
    "    ax.imshow(pic, cmap=plt.cm.gray_r, interpolation='nearest')\n",
    "    ax.set_title(\"target val:{:}, predicted val:{:}\".format(cla_y_test[i],knn.predict(cla_X_test)[i]))"
   ]
  },
  {
   "cell_type": "code",
   "execution_count": 789,
   "metadata": {},
   "outputs": [
    {
     "data": {
      "image/png": "[encoded data removed]",
      "text/plain": [
       "<Figure size 792x792 with 6 Axes>"
      ]
     },
     "metadata": {
      "needs_background": "light"
     },
     "output_type": "display_data"
    }
   ],
   "source": [
    "# show samples with wrong predictions\n",
    "wrong=np.where(knn.predict(cla_X_test)!=cla_y_test)[0]\n",
    "\n",
    "# plot nine samples\n",
    "fig,axes =plt.subplots(2,3, figsize=(11, 11))\n",
    "fig.suptitle('samples with wrong predictions', fontsize=20, fontweight='bold',y=.9)\n",
    "for i,ax in zip(wrong,axes.ravel()):\n",
    "    pic=cla_X_test[i].reshape(8,8)\n",
    "    ax.xaxis.set_ticks(np.arange(0.,7.1, 1.))\n",
    "    ax.yaxis.set_ticks(np.arange(0.,7.1, 1.))\n",
    "    ax.imshow(pic, cmap=plt.cm.gray_r, interpolation='nearest')\n",
    "    ax.set_title(\"target val:{:}, predicted val:{:}\".format(cla_y_test[i],knn.predict(cla_X_test)[i]))"
   ]
  },
  {
   "cell_type": "code",
   "execution_count": 434,
   "metadata": {},
   "outputs": [
    {
     "name": "stdout",
     "output_type": "stream",
     "text": [
      "Predicted results:\n",
      "(2, 2)\n",
      "(8, 8)\n",
      "(2, 2)\n",
      "(6, 6)\n",
      "(6, 6)\n",
      "(7, 7)\n",
      "(1, 1)\n",
      "(9, 9)\n",
      "(8, 8)\n",
      "(5, 5)\n"
     ]
    }
   ],
   "source": [
    "#Test predition for first ten results\n",
    "print(\"Predicted results:\")\n",
    "for x in tuple(zip(knn.predict(cla_X_test),digits['target_names'][cla_y_test]))[0:10]: \n",
    "    print(x) "
   ]
  },
  {
   "cell_type": "code",
   "execution_count": 455,
   "metadata": {},
   "outputs": [
    {
     "name": "stdout",
     "output_type": "stream",
     "text": [
      "Predicted probabilities:\n",
      "[0. 0. 0. 0. 0. 0. 0. 0. 0. 1.]\n",
      "[0.         0.         0.33333333 0.33333333 0.         0.\n",
      " 0.         0.33333333 0.         0.        ]\n",
      "[0. 0. 0. 0. 0. 0. 1. 0. 0. 0.]\n",
      "[0. 0. 0. 0. 0. 0. 0. 0. 0. 1.]\n",
      "[0. 1. 0. 0. 0. 0. 0. 0. 0. 0.]\n",
      "[0. 0. 0. 0. 0. 0. 0. 0. 1. 0.]\n"
     ]
    }
   ],
   "source": [
    "# predicted probabilities for correct predictions of sample 65 to 70\n",
    "print(\"Predicted probabilities:\")\n",
    "for i in range(65,71):\n",
    "    print(knn.predict_proba(cla_X_test)[i])"
   ]
  },
  {
   "cell_type": "markdown",
   "metadata": {},
   "source": [
    "### knn regressor\n"
   ]
  },
  {
   "cell_type": "code",
   "execution_count": 504,
   "metadata": {},
   "outputs": [
    {
     "name": "stdout",
     "output_type": "stream",
     "text": [
      "Training set score: 0.50\n",
      "Test set score: 0.39\n",
      "\n",
      " Possible Modifications: \n",
      " KNeighborsRegressor(algorithm='auto', leaf_size=30, metric='minkowski',\n",
      "                    metric_params=None, n_jobs=None, n_neighbors=5, p=2,\n",
      "                    weights='uniform')\n"
     ]
    }
   ],
   "source": [
    "#Import\n",
    "from sklearn.neighbors import KNeighborsRegressor\n",
    "knn = KNeighborsRegressor(n_neighbors=30)\n",
    "#Train\n",
    "knn.fit(reg_X_train, reg_y_train)\n",
    "#Test\n",
    "print(\"Training set score: {:.2f}\".format(knn.score(reg_X_train, reg_y_train)))\n",
    "print(\"Test set score: {:.2f}\".format(knn.score(reg_X_test, reg_y_test)))\n",
    "\n",
    "print(\"\\n Possible Modifications: \\n\",KNeighborsRegressor())"
   ]
  },
  {
   "cell_type": "markdown",
   "metadata": {},
   "source": [
    "## linear models"
   ]
  },
  {
   "cell_type": "markdown",
   "metadata": {},
   "source": [
    "####  Go-to as a first algorithm to try, good for very large datasets, good for very highdimensional data. "
   ]
  },
  {
   "cell_type": "markdown",
   "metadata": {},
   "source": [
    "### linear Support Vector Classifier (SVC)"
   ]
  },
  {
   "cell_type": "markdown",
   "metadata": {},
   "source": [
    "##### better for better dimenisions. generalizes. "
   ]
  },
  {
   "cell_type": "code",
   "execution_count": 803,
   "metadata": {},
   "outputs": [
    {
     "name": "stdout",
     "output_type": "stream",
     "text": [
      "Training set score: 0.99\n",
      "Test set score: 0.94\n",
      "\n",
      " Possible Modifications: \n",
      " LinearSVC(C=1.0, class_weight=None, dual=True, fit_intercept=True,\n",
      "          intercept_scaling=1, loss='squared_hinge', max_iter=1000,\n",
      "          multi_class='ovr', penalty='l2', random_state=None, tol=0.0001,\n",
      "          verbose=0)\n"
     ]
    },
    {
     "name": "stderr",
     "output_type": "stream",
     "text": [
      "D:\\Anaconda3\\lib\\site-packages\\sklearn\\svm\\_base.py:947: ConvergenceWarning: Liblinear failed to converge, increase the number of iterations.\n",
      "  \"the number of iterations.\", ConvergenceWarning)\n"
     ]
    }
   ],
   "source": [
    "#Import\n",
    "from sklearn.svm import LinearSVC\n",
    "lin = LinearSVC(max_iter=2000)\n",
    "#Train\n",
    "lin.fit(cla_X_train, cla_y_train)\n",
    "#Test\n",
    "print(\"Training set score: {:.2f}\".format(lin.score(cla_X_train, cla_y_train)))\n",
    "print(\"Test set score: {:.2f}\".format(lin.score(cla_X_test, cla_y_test)))\n",
    "\n",
    "print(\"\\n Possible Modifications: \\n\",LinearSVC())"
   ]
  },
  {
   "cell_type": "markdown",
   "metadata": {},
   "source": [
    "### logistic regression classification"
   ]
  },
  {
   "cell_type": "markdown",
   "metadata": {},
   "source": [
    "##### usually similiarly good as SVC. Try regression first"
   ]
  },
  {
   "cell_type": "code",
   "execution_count": 805,
   "metadata": {
    "scrolled": true
   },
   "outputs": [
    {
     "name": "stdout",
     "output_type": "stream",
     "text": [
      "Training set score: 0.99\n",
      "Test set score: 0.96\n",
      "\n",
      " Possible Modifications: \n",
      " LogisticRegression(C=1.0, class_weight=None, dual=False, fit_intercept=True,\n",
      "                   intercept_scaling=1, l1_ratio=None, max_iter=100,\n",
      "                   multi_class='auto', n_jobs=None, penalty='l2',\n",
      "                   random_state=None, solver='lbfgs', tol=0.0001, verbose=0,\n",
      "                   warm_start=False)\n"
     ]
    }
   ],
   "source": [
    "#Import\n",
    "from sklearn.linear_model import LogisticRegression\n",
    "log = LogisticRegression(C=0.01, max_iter=2000) #Modify C to prevent overfitting\n",
    "#Train\n",
    "log.fit(cla_X_train, cla_y_train)\n",
    "#Test\n",
    "print(\"Training set score: {:.2f}\".format(log.score(cla_X_train, cla_y_train)))\n",
    "print(\"Test set score: {:.2f}\".format(log.score(cla_X_test, cla_y_test)))\n",
    "\n",
    "print(\"\\n Possible Modifications: \\n\",LogisticRegression())"
   ]
  },
  {
   "cell_type": "markdown",
   "metadata": {},
   "source": [
    "### linear regression (aka ordinary least squares)"
   ]
  },
  {
   "cell_type": "markdown",
   "metadata": {},
   "source": [
    "##### good for high dimensions (many features). Can´t learn anything from less than about 400 samples"
   ]
  },
  {
   "cell_type": "code",
   "execution_count": 507,
   "metadata": {},
   "outputs": [
    {
     "name": "stdout",
     "output_type": "stream",
     "text": [
      "Training set score: 0.56\n",
      "Test set score: 0.36\n",
      "\n",
      " Possible Modifications: \n",
      " LinearRegression(copy_X=True, fit_intercept=True, n_jobs=None, normalize=False)\n"
     ]
    }
   ],
   "source": [
    "#Import\n",
    "from sklearn.linear_model import LinearRegression\n",
    "lr = LinearRegression()\n",
    "#Train\n",
    "lr.fit(X_train, y_train)\n",
    "#Test\n",
    "print(\"Training set score: {:.2f}\".format(lr.score(reg_X_train, reg_y_train)))\n",
    "print(\"Test set score: {:.2f}\".format(lr.score(reg_X_test, reg_y_test)))\n",
    "\n",
    "print(\"\\n Possible Modifications: \\n\",LinearRegression())\n"
   ]
  },
  {
   "cell_type": "code",
   "execution_count": 508,
   "metadata": {},
   "outputs": [
    {
     "name": "stdout",
     "output_type": "stream",
     "text": [
      "lr.coef_: [ -43.26774487 -208.67053951  593.39797213  302.89814903 -560.27689824\n",
      "  261.47657106   -8.83343952  135.93715156  703.22658427   28.34844354]\n",
      "lr.intercept_: 153.06798218266258\n"
     ]
    }
   ],
   "source": [
    "#Coefficients\n",
    "print(\"lr.coef_:\", lr.coef_)\n",
    "print(\"lr.intercept_:\", lr.intercept_)"
   ]
  },
  {
   "cell_type": "markdown",
   "metadata": {},
   "source": [
    "### ridge regression"
   ]
  },
  {
   "cell_type": "markdown",
   "metadata": {},
   "source": [
    "##### less likely to overfit than linear regression, as it generalizes more. Performace catches up for large sample sizes."
   ]
  },
  {
   "cell_type": "code",
   "execution_count": 537,
   "metadata": {},
   "outputs": [
    {
     "name": "stdout",
     "output_type": "stream",
     "text": [
      "Training set score: 0.54\n",
      "Test set score: 0.38\n",
      "\n",
      " Possible Modifications: \n",
      " Ridge(alpha=1.0, copy_X=True, fit_intercept=True, max_iter=None,\n",
      "      normalize=False, random_state=None, solver='auto', tol=0.001)\n"
     ]
    }
   ],
   "source": [
    "#Import\n",
    "from sklearn.linear_model import Ridge\n",
    "ridge = Ridge(alpha=0.2)\n",
    "#Train\n",
    "ridge.fit(reg_X_train, reg_y_train)\n",
    "#Test\n",
    "print(\"Training set score: {:.2f}\".format(ridge.score(reg_X_train, reg_y_train)))\n",
    "print(\"Test set score: {:.2f}\".format(ridge.score(reg_X_test, reg_y_test)))\n",
    "\n",
    "print(\"\\n Possible Modifications: \\n\",Ridge())\n"
   ]
  },
  {
   "cell_type": "markdown",
   "metadata": {},
   "source": [
    "### lasso regression"
   ]
  },
  {
   "cell_type": "markdown",
   "metadata": {},
   "source": [
    "##### ridge is usually better. lasso might be better for data with many features, where only few will be of importance"
   ]
  },
  {
   "cell_type": "code",
   "execution_count": 558,
   "metadata": {},
   "outputs": [
    {
     "name": "stdout",
     "output_type": "stream",
     "text": [
      "Training set score: 0.55\n",
      "Test set score: 0.36\n",
      "\n",
      " Possible Modifications: \n",
      " Ridge(alpha=1.0, copy_X=True, fit_intercept=True, max_iter=None,\n",
      "      normalize=False, random_state=None, solver='auto', tol=0.001)\n"
     ]
    }
   ],
   "source": [
    "#Import\n",
    "from sklearn.linear_model import Lasso\n",
    "las = Lasso(alpha=0.1)\n",
    "#Train\n",
    "las.fit(reg_X_train, reg_y_train)\n",
    "#Test\n",
    "print(\"Training set score: {:.2f}\".format(las.score(reg_X_train, reg_y_train)))\n",
    "print(\"Test set score: {:.2f}\".format(las.score(reg_X_test, reg_y_test)))\n",
    "\n",
    "print(\"\\n Possible Modifications: \\n\",Ridge())"
   ]
  },
  {
   "cell_type": "markdown",
   "metadata": {},
   "source": [
    "##### usually works best. combines ridge and lasso. Downside is that is has two parameters (alpha and l1_ratio) to adjust"
   ]
  },
  {
   "cell_type": "code",
   "execution_count": 607,
   "metadata": {},
   "outputs": [
    {
     "name": "stdout",
     "output_type": "stream",
     "text": [
      "Training set score: 0.55\n",
      "Test set score: 0.38\n",
      "\n",
      " Possible Modifications: \n",
      " ElasticNet(alpha=1.0, copy_X=True, fit_intercept=True, l1_ratio=0.5,\n",
      "           max_iter=1000, normalize=False, positive=False, precompute=False,\n",
      "           random_state=None, selection='cyclic', tol=0.0001, warm_start=False)\n"
     ]
    }
   ],
   "source": [
    "#Import\n",
    "from sklearn.linear_model import ElasticNet\n",
    "eln = ElasticNet(alpha=0.001)\n",
    "#Train\n",
    "eln.fit(reg_X_train, reg_y_train)\n",
    "#Test\n",
    "print(\"Training set score: {:.2f}\".format(eln.score(reg_X_train, reg_y_train)))\n",
    "print(\"Test set score: {:.2f}\".format(eln.score(reg_X_test, reg_y_test)))\n",
    "\n",
    "print(\"\\n Possible Modifications: \\n\",ElasticNet())"
   ]
  }
 ],
 "metadata": {
  "kernelspec": {
   "display_name": "Python 3",
   "language": "python",
   "name": "python3"
  },
  "language_info": {
   "codemirror_mode": {
    "name": "ipython",
    "version": 3
   },
   "file_extension": ".py",
   "mimetype": "text/x-python",
   "name": "python",
   "nbconvert_exporter": "python",
   "pygments_lexer": "ipython3",
   "version": "3.7.6"
  }
 },
 "nbformat": 4,
 "nbformat_minor": 4
}
