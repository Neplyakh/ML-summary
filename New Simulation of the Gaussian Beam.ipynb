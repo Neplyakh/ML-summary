{
 "cells": [
  {
   "cell_type": "code",
   "execution_count": null,
   "metadata": {},
   "outputs": [],
   "source": [
    "#import base pacakges\n",
    "import numpy as np\n",
    "# import matplotlib.pyplot as plt\n",
    "# bokeh imports\n",
    "from bokeh.plotting import figure, output_file, show, output_notebook\n",
    "from bokeh.models import ColorBar, LinearColorMapper,BasicTicker, ColumnDataSource, Slider, CustomJS\n",
    "from bokeh.palettes import Viridis256, Inferno256, Cividis256\n",
    "from bokeh.layouts import row, gridplot\n",
    "# progress bar and delay\n",
    "from tqdm.notebook import tqdm\n",
    "import time"
   ]
  },
  {
   "cell_type": "code",
   "execution_count": null,
   "metadata": {},
   "outputs": [],
   "source": [
    "# Define Physical constants\n",
    "c=3E11 # in mm/s\n",
    "\n",
    "# Define Input Paramters\n",
    "ω_0_in=7.2 # in mm\n",
    "d_in=450 # in mm\n",
    "freq=95E9\n",
    "# elliptical mirror\n",
    "R1=1\n",
    "R2=1\n",
    "# extracted params==>\n",
    "foc=339.5\n",
    "λ=c/freq\n"
   ]
  },
  {
   "cell_type": "code",
   "execution_count": null,
   "metadata": {},
   "outputs": [],
   "source": [
    "# function for calc. transversile profile\n",
    "def cal_trans_prof(z,ω_0,λ): ### λ aprrox by λ=c/f\n",
    "    z_r=np.pi*ω_0**2/λ\n",
    "    return    ω_0*np.sqrt(1+(z/z_r)**2)"
   ]
  },
  {
   "cell_type": "code",
   "execution_count": null,
   "metadata": {},
   "outputs": [],
   "source": [
    "# function for calc. d_out and w_0_out\n",
    "def cal_ω_0_out_and_d_out(d_in,ω_0_in,foc,λ):\n",
    "    C=-1/foc\n",
    "    z_c=np.pi*ω_0_in**2/λ\n",
    "    d_out=-(d_in*(C*d_in+1)+C*z_c**2)/((C*d_in+1)**2+C**2*z_c**2)\n",
    "    ω_0_out=ω_0_in/np.sqrt((C*d_in+1)**2+C**2*z_c**2)\n",
    "    return d_out,ω_0_out"
   ]
  },
  {
   "cell_type": "code",
   "execution_count": null,
   "metadata": {},
   "outputs": [],
   "source": [
    "# results d_out and w_0_out:\n",
    "d_out,ω_0_out = cal_ω_0_out_and_d_out(d_in,ω_0_in,foc,λ)\n",
    "print(\"The resulting parameters are: \\nd_out= {}, ω_0_out= {}\".format(d_out,ω_0_out))"
   ]
  },
  {
   "cell_type": "code",
   "execution_count": null,
   "metadata": {},
   "outputs": [],
   "source": [
    "# function that creates beam waist plot\n",
    "def create_plot(X, d_in=d_in,ω_0_in=ω_0_in,foc=foc,λ=λ,d_out=None,ω_0_out=None,):\n",
    "    if ((\"d_out\" and \"ω_0_out\" in locals()) and (d_out==None or ω_0_out==None))==True: #measure to save compute\n",
    "        d_out,ω_0_out = cal_ω_0_out_and_d_out(d_in,ω_0_in,foc,λ)\n",
    "    \n",
    "    if (isinstance(X, int)==True or isinstance(X, float)==True)==False:\n",
    "        res=np.copy(X)\n",
    "        for i,x in enumerate(res):\n",
    "            if x<=d_in:\n",
    "                res[i]=cal_trans_prof(x,ω_0_in,λ)\n",
    "            else:\n",
    "                res[i]=cal_trans_prof((d_out+d_in)-x,ω_0_out,λ)\n",
    "    else:\n",
    "        if X<=d_in:\n",
    "            res=cal_trans_prof(X,ω_0_in,λ)\n",
    "        else:\n",
    "            res=cal_trans_prof((d_out+d_in)-X,ω_0_out,λ)\n",
    "    \n",
    "    \n",
    "    return res"
   ]
  },
  {
   "cell_type": "code",
   "execution_count": null,
   "metadata": {
    "scrolled": false
   },
   "outputs": [],
   "source": [
    "# plot waist\n",
    "z_vals=np.linspace(0,d_in+2*d_out,1000)\n",
    "r_vals=create_plot(X=z_vals, d_in=d_in,ω_0_in=ω_0_in,foc=foc,λ=λ)\n",
    "\n",
    "output_notebook()\n",
    "tools = \"crosshair,pan,wheel_zoom,reset,save\"\n",
    "fig = figure(title=\"beam width\", x_axis_label='optical axis z [mm]',y_axis_label='radial component r [mm]', \n",
    "             plot_width=500, plot_height=300, tools=tools,active_drag=None,tooltips=[(\"(z , r)\", \"($x , $y)\")])\n",
    "# plot beam\n",
    "fig.line(z_vals,r_vals, line_width=2, color=\"blue\")\n",
    "fig.line(z_vals,-r_vals, line_width=2, color=\"blue\")\n",
    "# show\n",
    "show(fig)\n"
   ]
  },
  {
   "cell_type": "code",
   "execution_count": null,
   "metadata": {},
   "outputs": [],
   "source": [
    "import numpy as np\n",
    "\n",
    "output_notebook()\n",
    "\n",
    "from bokeh.layouts import column, row\n",
    "from bokeh.models import CustomJS, Slider\n",
    "from bokeh.plotting import ColumnDataSource, figure, output_file, show\n",
    "\n",
    "x=np.linspace(0,d_in+2*d_out,1000)\n",
    "y=create_plot(X=x, d_in=450,ω_0_in=ω_0_in,foc=foc,λ=c/(95E9))\n",
    "z=-create_plot(X=x, d_in=450,ω_0_in=ω_0_in,foc=foc,λ=c/95E9) #for negative values\n",
    "\n",
    "source = ColumnDataSource(data=dict(x=x, y=y, z=z))\n",
    "\n",
    "plot = figure(y_range=(-100,100),plot_height=300,plot_width=600,title=\"beam width\", \n",
    "              x_axis_label='optical axis z [mm]',y_axis_label='radial component r [mm]', \n",
    "              tools=tools,active_drag=None,tooltips=[(\"(z , r)\", \"($x , $y)\")])\n",
    "\n",
    "plot.line('x', 'y', source=source, line_width=3, color=\"blue\")\n",
    "plot.line('x', 'z', source=source, line_width=3, color=\"blue\")\n",
    "\n",
    "z_pos_slider = Slider(start=330, end=700, value=450, step=10, title=\"z-pos of mirror in mm\")\n",
    "freq_slider = Slider(start=70, end=120, value=95, step=1, title=\"frequency in GHz\")\n",
    "\n",
    "callback = CustomJS(args=dict(source=source,c=c,ω_0_in=ω_0_in,foc=foc, z_pos=z_pos_slider, freq=freq_slider),\n",
    "                    code=\"\"\"\n",
    "    const data = source.data;\n",
    "    const d_in = z_pos.value;\n",
    "    const frequency = freq.value;\n",
    "    const x = data['x']\n",
    "    const y = data['y']\n",
    "    const z = data['z']\n",
    "    \n",
    "    C=-1/foc\n",
    "    λ=c/(frequency*1E9)\n",
    "    z_c=Math.PI*ω_0_in**2/λ;\n",
    "    d_out=-(d_in*(C*d_in+1)+C*z_c**2)/((C*d_in+1)**2+C**2*z_c**2);\n",
    "    ω_0_out=ω_0_in/((C*d_in+1)**2+C**2*z_c**2)**(1/2);\n",
    "    \n",
    "    for (var i = 0; i < x.length; i++) {\n",
    "        if (x[i]<=d_in) {\n",
    "        z_r=Math.PI*ω_0_in**2/λ;\n",
    "            y[i]=ω_0_in*(1+(x[i]/z_r)**2)**(1/2);\n",
    "            z[i]=-y[i];} \n",
    "        else {\n",
    "        z_r=Math.PI*ω_0_out**2/λ;\n",
    "            y[i]=ω_0_out*(1+((d_in+d_out-x[i])/z_r)**2)**(1/2);\n",
    "            z[i]=-y[i];} \n",
    "    }\n",
    "    source.change.emit();\n",
    "\"\"\")\n",
    "\n",
    "z_pos_slider.js_on_change('value', callback)\n",
    "freq_slider.js_on_change('value', callback)\n",
    "\n",
    "layout = row(plot,column(z_pos_slider, freq_slider))\n",
    "\n",
    "\n",
    "show(layout)"
   ]
  },
  {
   "cell_type": "code",
   "execution_count": null,
   "metadata": {},
   "outputs": [],
   "source": [
    "# creating canvas\n",
    "max_r=100 #in mm\n",
    "max_z=np.int((np.round(d_in+1.5*d_out))) # in mm\n",
    "canvas_size=(max_r*2+1,max_z) #uneven for symmetry\n",
    "canvas=np.zeros(canvas_size)"
   ]
  },
  {
   "cell_type": "code",
   "execution_count": null,
   "metadata": {},
   "outputs": [],
   "source": [
    "# calculation of beam intensity\n",
    "def calculate_beam(r,ω_0,ω_z):\n",
    "    return ((ω_0/ω_z)**2*np.exp(-2*r**2/ω_z**2))\n",
    "\n",
    "# calculation plot\n",
    "def calculate(λ=λ,d_out=d_out,ω_0_out=ω_0_out,d_in=d_in,ω_0_in=ω_0_in,canvas=canvas):\n",
    "    # calculations\n",
    "    just=(canvas.shape[0]-1)/2 #justify\n",
    "    # very naive intensity for post reflection beam\n",
    "    I_cell=(cal_trans_prof(d_in,ω_0_in,λ)/cal_trans_prof(-d_out,ω_0_out,λ)*ω_0_in/ω_0_out)**2\n",
    "    image=np.copy(canvas)\n",
    "    for z in tqdm(range(0,canvas.shape[1])):\n",
    "        for r in range(0,canvas.shape[0]):\n",
    "            if z<=d_in:\n",
    "                ω_z=cal_trans_prof(z,ω_0_in,λ)\n",
    "                image[r,z]=calculate_beam((r-just),ω_0_in,ω_z)\n",
    "            else:\n",
    "                ω_z=cal_trans_prof(z-round(d_in+d_out),ω_0_out,λ)\n",
    "                image[r,z]=calculate_beam((r-just),ω_0_out,ω_z)*I_cell\n",
    "    return image"
   ]
  },
  {
   "cell_type": "code",
   "execution_count": null,
   "metadata": {},
   "outputs": [],
   "source": [
    "# calculate image\n",
    "image=calculate()"
   ]
  },
  {
   "cell_type": "code",
   "execution_count": null,
   "metadata": {},
   "outputs": [],
   "source": [
    "# plot\n",
    "z_vals=np.linspace(0,d_in+2*d_out,1000)\n",
    "r_vals=create_plot(X=z_vals, d_in=d_in,ω_0_in=ω_0_in,foc=foc,λ=λ)\n",
    "\n",
    "# plot image\n",
    "output_notebook()\n",
    "tools = \"crosshair,pan,wheel_zoom,reset,save\"\n",
    "# colorbar\n",
    "color_mapper = LinearColorMapper( palette=Cividis256, low=0, high=1)\n",
    "plot = figure(x_range=(-0.5,image.shape[1]-0.5), y_range=(-image.shape[0]/2,image.shape[0]/2),plot_width=600, plot_height=300,\n",
    "             title=\"beam intensity at given params\", x_axis_label='optical axis z [mm]',y_axis_label='radial component r [mm]', \n",
    "             tools=tools, active_drag=None, tooltips=[(\"(z , r)\", \"($x , $y)\"), (\"Intensity\", \"@image\")])\n",
    "plot.image(image=[image], color_mapper=color_mapper,dh=[image.shape[0]], dw=[image.shape[1]], x=[-0.5], y=[-image.shape[0]/2])\n",
    "\n",
    "# show beam width\n",
    "plot.line(z_vals,r_vals, line_width=2,color=\"orange\",line_dash=\"dashed\",legend_label=\"beam profile\")\n",
    "plot.line(z_vals,-r_vals, line_width=2,color=\"orange\",line_dash=\"dashed\",legend_label=\"beam profile\")\n",
    "# color bar\n",
    "color_bar = ColorBar(color_mapper=color_mapper,label_standoff=12, location=(0,0))\n",
    "plot.add_layout(color_bar, 'right')\n",
    "# legend\n",
    "plot.legend.label_text_font_size = '10pt'\n",
    "plot.legend.background_fill_alpha = 0.5\n",
    "# show\n",
    "show(plot)"
   ]
  },
  {
   "cell_type": "markdown",
   "metadata": {},
   "source": [
    "# Calc range of frequencies 70 to 110 GHz"
   ]
  },
  {
   "cell_type": "code",
   "execution_count": null,
   "metadata": {},
   "outputs": [],
   "source": [
    "# creating canvas\n",
    "max_r=100 #in mm\n",
    "max_z=np.int((np.round(d_in+1.5*d_out))) # in mm\n",
    "canvas_size=(max_r*2+1,max_z) #uneven for symmetry\n",
    "canvas=np.zeros(canvas_size)"
   ]
  },
  {
   "cell_type": "code",
   "execution_count": null,
   "metadata": {},
   "outputs": [],
   "source": [
    "# Calculate\n",
    "\n",
    "#define variables\n",
    "frequencies=np.arange(70,115,5)*1E9\n",
    "c=3E11\n",
    "wavelengths=c/frequencies\n",
    "# include altered ω_cell\n",
    "ω_0_in_vals=[7.85,7.67,7.47,7.26,7.03,7.16,7.23,7.26,7.24]\n",
    "d_in_val=d_in\n",
    "# save values for later use:\n",
    "saved = []\n",
    "beam_saved=[]\n",
    "beam_vals=np.zeros((len(frequencies),len(z_vals),len(z_vals)))\n",
    "print(\"total progress:\")\n",
    "for i,lam in tqdm(enumerate(wavelengths),total=len(wavelengths)):\n",
    "    print(\"generating image {} of {}:\".format(i+1,len(ω_0_in_vals)))\n",
    "    d_out,ω_0_out = cal_ω_0_out_and_d_out(d_in_val,ω_0_in_vals[i],foc,lam)\n",
    "    saved.append(calculate(λ=lam,d_out=d_out,ω_0_out=ω_0_out,d_in=d_in_val,ω_0_in=ω_0_in_vals[i],canvas=canvas))\n",
    "    z_vals=np.linspace(0,d_in+2*d_out,1000)\n",
    "    r_vals=create_plot(X=x, d_in=450,ω_0_in=ω_0_in,foc=foc,λ=lam,d_out=d_out,ω_0_out=ω_0_out) \n",
    "    beam_saved.append([z_vals,r_vals])"
   ]
  },
  {
   "cell_type": "code",
   "execution_count": null,
   "metadata": {
    "scrolled": false
   },
   "outputs": [],
   "source": [
    "from bokeh.layouts import gridplot\n",
    "\n",
    "color_mapper = LinearColorMapper( palette=Cividis256, low=0, high=1)\n",
    "tools = \"crosshair,pan,wheel_zoom,reset,save\"\n",
    "plots = [figure(x_range=(-0.5,canvas.shape[1]-0.5), y_range=(-canvas.shape[0]/2,canvas.shape[0]/2),plot_width=330, plot_height=200,\n",
    "             title=\"Frequency= {}GHz\".format(np.int(frequencies[i]/1E9)), x_axis_label='optical axis z [mm]',y_axis_label='radial component r [mm]', \n",
    "             tools=tools, tooltips=[(\"(z , r)\", \"($x , $y)\"), (\"Intensity\", \"@image\")]) for i in range(len(saved))]\n",
    "for i,plot in enumerate(plots):\n",
    "    plot.add_layout(color_bar, 'right')\n",
    "    plot.image(image=[saved[i]], color_mapper=color_mapper,dh=[image.shape[0]], dw=[image.shape[1]], x=[-0.5], y=[-image.shape[0]/2])\n",
    "    # beam profile\n",
    "    plot.line(beam_saved[i][0],beam_saved[i][1], line_width=2,color=\"orange\",line_dash=\"dashed\",legend_label=\"beam profile\")\n",
    "    plot.line(beam_saved[i][0],-beam_saved[i][1], line_width=2,color=\"orange\",line_dash=\"dashed\",legend_label=\"beam profile\")\n",
    "    # legend\n",
    "    plot.legend.label_text_font_size = '7pt'\n",
    "    plot.legend.background_fill_alpha = 0.5\n",
    "    plot.legend.padding=2\n",
    "    glyphs = [plot]\n",
    "color_bar = ColorBar(color_mapper=color_mapper,label_standoff=12, location=(0,0))\n",
    "show(gridplot(children = plots, ncols = 3, merge_tools = True))"
   ]
  },
  {
   "cell_type": "markdown",
   "metadata": {},
   "source": [
    "# Project: Gaussian Beam Optimizer"
   ]
  },
  {
   "cell_type": "code",
   "execution_count": null,
   "metadata": {},
   "outputs": [],
   "source": [
    "# calculates plot from d_in to end of canvas, implemented to save compute\n",
    "def int_opt_chamber_mapper(r_chamber,d_in=d_in,canvas=canvas,ω_0_in=ω_0_in,foc=foc,λ=λ):\n",
    "    radius=np.int(np.round(r_chamber))\n",
    "    canvas_shape=canvas.shape\n",
    "  # params\n",
    "    image=np.copy(canvas)\n",
    "    just=(canvas_shape[0]-1)/2 \n",
    "    d_out,ω_0_out = cal_ω_0_out_and_d_out(d_in,ω_0_in,foc,λ)\n",
    "    I_cell=(cal_trans_prof(d_in,ω_0_in,λ)/cal_trans_prof(-d_out,ω_0_out,λ)*ω_0_in/ω_0_out)**2\n",
    "    mid=np.int(np.round(just))\n",
    "    # plot only rectangle\n",
    "    for z in range(np.int(np.round(d_in)),canvas_shape[1]):\n",
    "        for r in range(mid-radius,mid+radius+1):\n",
    "            ω_z=cal_trans_prof(z-round(d_in+d_out),ω_0_out,λ)\n",
    "            image[r,z]=calculate_beam((r-just),ω_0_out,ω_z)*I_cell\n",
    "    return image"
   ]
  },
  {
   "cell_type": "code",
   "execution_count": null,
   "metadata": {},
   "outputs": [],
   "source": [
    "def calculate_int_chamber(pos_chamber,r_chamber,image=image):\n",
    "    # check size chamber\n",
    "    image_shape=image.shape\n",
    "    pos=(np.int(np.round((image_shape[0]-1)/2)),np.int(np.round(pos_chamber)))\n",
    "    radius=np.int(np.round(r_chamber))\n",
    "    if (pos[0]+radius)>=image_shape[0] or (pos[0]-radius)<0 or (pos[1]+radius)>=image_shape[1] or (pos[1]-radius)<0:\n",
    "        raise Exception(\"Sorry, chamber too large. Use larger canvas or decrease r_chamber.\") \n",
    "    # params\n",
    "    summ=0\n",
    "    # sum circle\n",
    "    for z in range(pos[1]-radius,pos[1]+radius+1):\n",
    "        for r in range(pos[0]-radius,pos[0]+radius+1):\n",
    "            if np.sqrt((pos[0]-r)**2+(pos[1]-z)**2)<=radius:\n",
    "                summ=summ+image[r,z]\n",
    "    return summ"
   ]
  },
  {
   "cell_type": "code",
   "execution_count": null,
   "metadata": {},
   "outputs": [],
   "source": [
    "# demonstrate int chamber for fixed d_in\n",
    "X=range(550,2000,50)\n",
    "Y=np.copy(X)\n",
    "image=int_opt_chamber_mapper(100)\n",
    "for i,x in tqdm(enumerate(X),total=len(X)):\n",
    "    Y[i]=calculate_int_chamber(x,100,image)\n",
    "output_notebook()\n",
    "tools = \"crosshair,pan,wheel_zoom,reset,save\"\n",
    "fig = figure(title=\"Intensity at chamber position\", x_axis_label='chamber position in [mm]',y_axis_label='Intensity', \n",
    "             plot_width=500, plot_height=300, tools=tools,active_drag=None,tooltips=[(\"(z , r)\", \"($x , $y)\")])\n",
    "# plot beam\n",
    "fig.line(X,Y, line_width=2, color=\"blue\")\n",
    "# show\n",
    "show(fig)"
   ]
  },
  {
   "cell_type": "code",
   "execution_count": null,
   "metadata": {},
   "outputs": [],
   "source": [
    "def opt_image_generator(Z_vals,canvas,r_chamber=100,ω_0_in=ω_0_in,foc=foc,λ=λ):\n",
    "    # check if Z_vals fits\n",
    "    if Z_vals[0]<0 or Z_vals[-1]>=canvas.shape[1]:\n",
    "        raise Exception(\"Z_vals exceed canvas. Adjust it to canvas size\") \n",
    "    radius=np.int(np.round(r_chamber))\n",
    "    params=np.full((len(Z_vals)-1, len(Z_vals[Z_vals>(np.round(Z_vals[0])+np.round(radius))])),-1)\n",
    "    first_d_in=Z_vals[0]\n",
    "    first_pos_chamber=Z_vals[Z_vals>(np.round(first_d_in)+np.round(radius))][0]\n",
    "    #calculate in grid\n",
    "    for i,d_in in tqdm(enumerate(Z_vals),total=len(Z_vals)):\n",
    "        image=int_opt_chamber_mapper(r_chamber,d_in=d_in,canvas=canvas,ω_0_in=ω_0_in,foc=foc,λ=λ)\n",
    "        pos_vals=Z_vals[Z_vals>(np.round(d_in)+np.round(radius))]\n",
    "        for j,pos_chamber in enumerate(pos_vals):\n",
    "            params[i,j+i]=calculate_int_chamber(pos_chamber,r_chamber,image=image)\n",
    "    return params, (first_d_in,first_pos_chamber)"
   ]
  },
  {
   "cell_type": "code",
   "execution_count": null,
   "metadata": {},
   "outputs": [],
   "source": [
    "# calculate optimization plot\n",
    "Z_vals=np.arange(300,2000,100) \n",
    "print(\"approximate total ca0lc. time= {:.1f} min\".format(len(Z_vals)*(7/60)))\n",
    "image, first =opt_image_generator(Z_vals,canvas,r_chamber=50)\n",
    "pos_chamber_vals=Z_vals[Z_vals>=first[1]]"
   ]
  },
  {
   "cell_type": "code",
   "execution_count": null,
   "metadata": {},
   "outputs": [],
   "source": [
    "# plot\n",
    "# plot image\n",
    "output_notebook()\n",
    "tools = \"crosshair,pan,wheel_zoom,reset,save\"\n",
    "# colorbar\n",
    "color_mapper = LinearColorMapper( palette=Cividis256, low=-1, high=np.amax(image))\n",
    "plot = figure(x_range=(pos_chamber_vals[0]-(pos_chamber_vals[1]-pos_chamber_vals[0])/2,pos_chamber_vals[-1]-(pos_chamber_vals[1]-pos_chamber_vals[0])/2), \n",
    "              y_range=(Z_vals[0]-(Z_vals[1]-Z_vals[0])/2,Z_vals[-1]-(Z_vals[1]-Z_vals[0])/2),plot_width=600, plot_height=300,\n",
    "              title=\"Intensity in chamber by chamber_pos and mirror pos\", x_axis_label='chamber pos in [mm]',y_axis_label='mirror pos [mm]', \n",
    "              tools=tools, active_drag=None, tooltips=[(\"(z , r)\", \"($x , $y)\"), (\"Intensity\", \"@image\")])\n",
    "plot.image(image=[image], color_mapper=color_mapper, dh=[Z_vals[-1]-Z_vals[0]], dw=[pos_chamber_vals[-1]-pos_chamber_vals[0]],\n",
    "           x=[pos_chamber_vals[0]-(pos_chamber_vals[1]-pos_chamber_vals[0])/2], y=[Z_vals[0]-(Z_vals[1]-Z_vals[0])/2])\n",
    "\n",
    "# color bar\n",
    "color_bar = ColorBar(color_mapper=color_mapper,label_standoff=12, location=(0,0))\n",
    "plot.add_layout(color_bar, 'right')\n",
    "# show\n",
    "print(\"     In the following plot values mit intensity= -1 are empty\")\n",
    "plot.yaxis.ticker = Z_vals[::10]\n",
    "plot.xaxis.ticker = pos_chamber_vals[::10]\n",
    "show(plot)"
   ]
  },
  {
   "cell_type": "code",
   "execution_count": null,
   "metadata": {},
   "outputs": [],
   "source": [
    "# show max results\n",
    "print(\"The maximum intensity of {} in arbitraty units is given for:\".format(np.amax(image)))\n",
    "opt_pos=np.unravel_index(image.argmax(), image.shape)\n",
    "print(\"mirror position= {} mm, chamber position= {} mm\".format(Z_vals[opt_pos[0]],pos_chamber_vals[opt_pos[1]]))\n",
    "opt_coords=(Z_vals[opt_pos[0]],pos_chamber_vals[opt_pos[1]])"
   ]
  },
  {
   "cell_type": "code",
   "execution_count": null,
   "metadata": {},
   "outputs": [],
   "source": [
    "# creating canvas\n",
    "max_r=150 #in mm\n",
    "max_z=np.int((np.round(d_in+1.5*d_out))) # in mm\n",
    "canvas_size=(max_r*2+1,max_z) #uneven for symmetry\n",
    "canvas=np.zeros(canvas_size)"
   ]
  },
  {
   "cell_type": "code",
   "execution_count": null,
   "metadata": {},
   "outputs": [],
   "source": [
    "# calculate image\n",
    "r_chamber=50\n",
    "illust=np.copy(canvas)\n",
    "# plot chamber into image\n",
    "radius=np.int(np.round(r_chamber))\n",
    "pos=(np.int(np.round(illust.shape[0]-1)/2),np.int(np.round(opt_coords[1])))\n",
    "for i in range(pos[0]-radius,pos[0]+radius+1):\n",
    "    for j in range(pos[1]-radius,pos[1]+radius+1):\n",
    "        if np.sqrt((pos[0]-i)**2+(pos[1]-j)**2)<=radius:\n",
    "            illust[i,j]=1"
   ]
  },
  {
   "cell_type": "code",
   "execution_count": null,
   "metadata": {},
   "outputs": [],
   "source": [
    "# plot optimized posiions\n",
    "z_vals=np.linspace(0,d_in+2*d_out,1000)\n",
    "r_vals=create_plot(X=z_vals, d_in=opt_coords[0],ω_0_in=ω_0_in,foc=foc,λ=λ)\n",
    "\n",
    "# plot image\n",
    "output_notebook()\n",
    "tools = \"crosshair,pan,wheel_zoom,reset,save\"\n",
    "# colorbar\n",
    "color_mapper = LinearColorMapper( palette=Cividis256, low=0, high=1)\n",
    "plot = figure(x_range=(-0.5,illust.shape[1]-0.5), y_range=(-illust.shape[0]/2,illust.shape[0]/2),plot_width=800, plot_height=150,\n",
    "             title=\"locations of optimised mirror and chamber\", x_axis_label='optical axis z [mm]',y_axis_label='radial component r [mm]', \n",
    "             tools=tools, active_drag=None, tooltips=[(\"(z , r)\", \"($x , $y)\"), (\"Intensity\", \"@image\")])\n",
    "plot.image(image=[illust], color_mapper=color_mapper,dh=[illust.shape[0]], dw=[illust.shape[1]], x=[-0.5], y=[-illust.shape[0]/2])\n",
    "\n",
    "# show beam width\n",
    "plot.line(z_vals,r_vals, line_width=2,color=\"orange\",line_dash=\"dashed\",legend_label=\"beam profile\")\n",
    "plot.line(z_vals,-r_vals, line_width=2,color=\"orange\",line_dash=\"dashed\",legend_label=\"beam profile\")\n",
    "# color bar\n",
    "color_bar = ColorBar(color_mapper=color_mapper,label_standoff=12, location=(0,0))\n",
    "plot.add_layout(color_bar, 'right')\n",
    "# legend\n",
    "plot.legend.label_text_font_size = '7pt'\n",
    "plot.legend.background_fill_alpha = 0.5\n",
    "plot.legend.padding=1\n",
    "# show\n",
    "print()\n",
    "show(plot)"
   ]
  },
  {
   "cell_type": "code",
   "execution_count": null,
   "metadata": {},
   "outputs": [],
   "source": []
  },
  {
   "cell_type": "code",
   "execution_count": null,
   "metadata": {},
   "outputs": [],
   "source": []
  },
  {
   "cell_type": "code",
   "execution_count": null,
   "metadata": {},
   "outputs": [],
   "source": []
  },
  {
   "cell_type": "code",
   "execution_count": null,
   "metadata": {},
   "outputs": [],
   "source": []
  },
  {
   "cell_type": "code",
   "execution_count": null,
   "metadata": {},
   "outputs": [],
   "source": []
  },
  {
   "cell_type": "markdown",
   "metadata": {},
   "source": [
    "# Snippets"
   ]
  },
  {
   "cell_type": "code",
   "execution_count": null,
   "metadata": {},
   "outputs": [],
   "source": [
    "Z_vals=np.arange(0,9)\n",
    "Z_vals"
   ]
  },
  {
   "cell_type": "code",
   "execution_count": null,
   "metadata": {},
   "outputs": [],
   "source": [
    "im=np.zeros((3,9))\n",
    "im[2,Z_vals[-1]]"
   ]
  },
  {
   "cell_type": "code",
   "execution_count": null,
   "metadata": {},
   "outputs": [],
   "source": [
    "if Z_vals[0]<0 or Z_vals[-1]>=im.shape[1]:\n",
    "    print(\"yes\")"
   ]
  },
  {
   "cell_type": "code",
   "execution_count": null,
   "metadata": {},
   "outputs": [],
   "source": []
  },
  {
   "cell_type": "code",
   "execution_count": null,
   "metadata": {},
   "outputs": [],
   "source": []
  },
  {
   "cell_type": "code",
   "execution_count": null,
   "metadata": {},
   "outputs": [],
   "source": []
  },
  {
   "cell_type": "code",
   "execution_count": null,
   "metadata": {},
   "outputs": [],
   "source": []
  },
  {
   "cell_type": "code",
   "execution_count": null,
   "metadata": {},
   "outputs": [],
   "source": []
  },
  {
   "cell_type": "code",
   "execution_count": null,
   "metadata": {},
   "outputs": [],
   "source": []
  },
  {
   "cell_type": "code",
   "execution_count": null,
   "metadata": {},
   "outputs": [],
   "source": []
  },
  {
   "cell_type": "code",
   "execution_count": null,
   "metadata": {},
   "outputs": [],
   "source": []
  },
  {
   "cell_type": "code",
   "execution_count": null,
   "metadata": {},
   "outputs": [],
   "source": []
  },
  {
   "cell_type": "code",
   "execution_count": null,
   "metadata": {},
   "outputs": [],
   "source": [
    "    # calculations\n",
    "    just=(canvas.shape[0]-1)/2 #justify\n",
    "    # very naive intensity for post reflection beam\n",
    "    I_cell=(cal_trans_prof(d_in,ω_0_in,λ)/cal_trans_prof(-d_out,ω_0_out,λ)*ω_0_in/ω_0_out)**2\n",
    "    image=np.copy(canvas)\n",
    "    for z in tqdm(range(0,canvas.shape[1])):\n",
    "        for r in range(0,canvas.shape[0]):\n",
    "            if z<=d_in:\n",
    "                ω_z=cal_trans_prof(z,ω_0_in,λ)\n",
    "                image[r,z]=calculate_beam((r-just),ω_0_in,ω_z)\n",
    "            else:\n",
    "                ω_z=cal_trans_prof(z-round(d_in+d_out),ω_0_out,λ)\n",
    "                image[r,z]=calculate_beam((r-just),ω_0_out,ω_z)*I_cell"
   ]
  },
  {
   "cell_type": "code",
   "execution_count": null,
   "metadata": {},
   "outputs": [],
   "source": [
    "#Circle\n",
    "\n",
    "\n",
    "# image=np.random.random((10,10))\n",
    "image=np.zeros((11,11))\n",
    "pos_chamber=5\n",
    "pos=(np.int(np.round(image.shape[1])/2),np.int(np.round(pos_chamber)))\n",
    "r_chamber=2\n",
    "radius=np.int(np.round(r_chamber))\n",
    "# check bounds\n",
    "if (pos[0]+radius)>=image.shape[0] or (pos[0]-radius)<0 or (pos[1]+radius)>=image.shape[1] or (pos[1]-radius)<0:\n",
    "  raise Exception(\"Sorry, chamber too large. Use larger canvas or decrease r_chamber.\") \n",
    "# circle\n",
    "for i in range(pos[0]-radius,pos[0]+radius+1):\n",
    "    for j in range(pos[1]-radius,pos[1]+radius+1):\n",
    "        if np.sqrt((pos[0]-i)**2+(pos[1]-j)**2)<=radius:\n",
    "            image[i,j]=1"
   ]
  },
  {
   "cell_type": "code",
   "execution_count": null,
   "metadata": {},
   "outputs": [],
   "source": [
    "plt.imshow(image)"
   ]
  },
  {
   "cell_type": "code",
   "execution_count": null,
   "metadata": {},
   "outputs": [],
   "source": [
    "import matplotlib.pyplot as plt"
   ]
  },
  {
   "cell_type": "code",
   "execution_count": null,
   "metadata": {},
   "outputs": [],
   "source": [
    "# plot\n",
    "output_notebook()\n",
    "tools = \"crosshair,pan,wheel_zoom,reset,save\"\n",
    "# colorbar\n",
    "color_mapper = LinearColorMapper( palette=Cividis256, low=0, high=1)\n",
    "plot = figure(x_range=(-0.5,image.shape[1]-0.5), y_range=(-image.shape[0]/2,image.shape[0]/2),plot_width=600, plot_height=300,\n",
    "             title=\"beam intensity at given params\", x_axis_label='optical axis z [mm]',y_axis_label='radial component r [mm]', \n",
    "             tools=tools, active_drag=None, tooltips=[(\"(z , r)\", \"($x , $y)\"), (\"Intensity\", \"@image\")])\n",
    "plot.image(image=[image], color_mapper=color_mapper,dh=[image.shape[0]], dw=[image.shape[1]], x=[-0.5], y=[-image.shape[0]/2])\n",
    "\n",
    "show(plot)"
   ]
  },
  {
   "cell_type": "code",
   "execution_count": null,
   "metadata": {},
   "outputs": [],
   "source": []
  }
 ],
 "metadata": {
  "kernelspec": {
   "display_name": "Python 3",
   "language": "python",
   "name": "python3"
  },
  "language_info": {
   "codemirror_mode": {
    "name": "ipython",
    "version": 3
   },
   "file_extension": ".py",
   "mimetype": "text/x-python",
   "name": "python",
   "nbconvert_exporter": "python",
   "pygments_lexer": "ipython3",
   "version": "3.7.6"
  }
 },
 "nbformat": 4,
 "nbformat_minor": 4
}
